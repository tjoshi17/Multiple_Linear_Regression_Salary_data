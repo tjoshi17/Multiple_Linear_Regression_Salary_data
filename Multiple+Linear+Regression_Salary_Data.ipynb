{
 "cells": [
  {
   "cell_type": "markdown",
   "id": "0b563d91-0e14-43ae-bf61-b44872255d68",
   "metadata": {},
   "source": [
    "# Multiple Linear Regression\n",
    "\n",
    "In this notebook, we'll build a multiple linear regression model to predict `Salary` using an appropriate predictor variable."
   ]
  },
  {
   "cell_type": "markdown",
   "id": "4cd791ff-deac-4d9e-9a5b-223857275dec",
   "metadata": {},
   "source": [
    "## Step 1: Reading and Understanding the Data\n",
    "\n",
    "Let's start with the following steps:\n",
    "\n",
    "1. Importing data using the pandas library\n",
    "2. Understanding the structure of the data"
   ]
  },
  {
   "cell_type": "code",
   "execution_count": 300,
   "id": "103aeda4-1b0b-4329-8f6d-fb719ae11d64",
   "metadata": {},
   "outputs": [],
   "source": [
    "# Supress Warnings\n",
    "\n",
    "import warnings\n",
    "warnings.filterwarnings('ignore')"
   ]
  },
  {
   "cell_type": "code",
   "execution_count": 301,
   "id": "c8992ce5-f34c-4ac6-97ce-bcab2669b838",
   "metadata": {},
   "outputs": [],
   "source": [
    "# Import the numpy and pandas package\n",
    "\n",
    "import numpy as np\n",
    "import pandas as pd"
   ]
  },
  {
   "cell_type": "code",
   "execution_count": 302,
   "id": "73d63133-857a-4e20-9d9e-9d79bc4e8632",
   "metadata": {},
   "outputs": [
    {
     "data": {
      "text/html": [
       "<div>\n",
       "<style scoped>\n",
       "    .dataframe tbody tr th:only-of-type {\n",
       "        vertical-align: middle;\n",
       "    }\n",
       "\n",
       "    .dataframe tbody tr th {\n",
       "        vertical-align: top;\n",
       "    }\n",
       "\n",
       "    .dataframe thead th {\n",
       "        text-align: right;\n",
       "    }\n",
       "</style>\n",
       "<table border=\"1\" class=\"dataframe\">\n",
       "  <thead>\n",
       "    <tr style=\"text-align: right;\">\n",
       "      <th></th>\n",
       "      <th>Age</th>\n",
       "      <th>Gender</th>\n",
       "      <th>Education Level</th>\n",
       "      <th>Job Title</th>\n",
       "      <th>Years of Experience</th>\n",
       "      <th>Salary</th>\n",
       "    </tr>\n",
       "  </thead>\n",
       "  <tbody>\n",
       "    <tr>\n",
       "      <th>0</th>\n",
       "      <td>32.0</td>\n",
       "      <td>Male</td>\n",
       "      <td>Bachelor's</td>\n",
       "      <td>Software Engineer</td>\n",
       "      <td>5.0</td>\n",
       "      <td>90000.0</td>\n",
       "    </tr>\n",
       "    <tr>\n",
       "      <th>1</th>\n",
       "      <td>28.0</td>\n",
       "      <td>Female</td>\n",
       "      <td>Master's</td>\n",
       "      <td>Data Analyst</td>\n",
       "      <td>3.0</td>\n",
       "      <td>65000.0</td>\n",
       "    </tr>\n",
       "    <tr>\n",
       "      <th>2</th>\n",
       "      <td>45.0</td>\n",
       "      <td>Male</td>\n",
       "      <td>PhD</td>\n",
       "      <td>Senior Manager</td>\n",
       "      <td>15.0</td>\n",
       "      <td>150000.0</td>\n",
       "    </tr>\n",
       "    <tr>\n",
       "      <th>3</th>\n",
       "      <td>36.0</td>\n",
       "      <td>Female</td>\n",
       "      <td>Bachelor's</td>\n",
       "      <td>Sales Associate</td>\n",
       "      <td>7.0</td>\n",
       "      <td>60000.0</td>\n",
       "    </tr>\n",
       "    <tr>\n",
       "      <th>4</th>\n",
       "      <td>52.0</td>\n",
       "      <td>Male</td>\n",
       "      <td>Master's</td>\n",
       "      <td>Director</td>\n",
       "      <td>20.0</td>\n",
       "      <td>200000.0</td>\n",
       "    </tr>\n",
       "  </tbody>\n",
       "</table>\n",
       "</div>"
      ],
      "text/plain": [
       "    Age  Gender Education Level          Job Title  Years of Experience  \\\n",
       "0  32.0    Male      Bachelor's  Software Engineer                  5.0   \n",
       "1  28.0  Female        Master's       Data Analyst                  3.0   \n",
       "2  45.0    Male             PhD     Senior Manager                 15.0   \n",
       "3  36.0  Female      Bachelor's    Sales Associate                  7.0   \n",
       "4  52.0    Male        Master's           Director                 20.0   \n",
       "\n",
       "     Salary  \n",
       "0   90000.0  \n",
       "1   65000.0  \n",
       "2  150000.0  \n",
       "3   60000.0  \n",
       "4  200000.0  "
      ]
     },
     "execution_count": 302,
     "metadata": {},
     "output_type": "execute_result"
    }
   ],
   "source": [
    "# Read the given CSV file, and view some sample records\n",
    "\n",
    "salary_data = pd.read_csv(\"Salary_Data.csv\")\n",
    "salary_data.head()"
   ]
  },
  {
   "cell_type": "code",
   "execution_count": 303,
   "id": "40e61223-273b-4156-98ba-3509b9b66cd2",
   "metadata": {},
   "outputs": [
    {
     "data": {
      "text/plain": [
       "(6704, 6)"
      ]
     },
     "execution_count": 303,
     "metadata": {},
     "output_type": "execute_result"
    }
   ],
   "source": [
    "salary_data.shape"
   ]
  },
  {
   "cell_type": "code",
   "execution_count": 304,
   "id": "11d1de95-a035-4e76-892d-f3affa6f0cb4",
   "metadata": {},
   "outputs": [
    {
     "name": "stdout",
     "output_type": "stream",
     "text": [
      "<class 'pandas.core.frame.DataFrame'>\n",
      "RangeIndex: 6704 entries, 0 to 6703\n",
      "Data columns (total 6 columns):\n",
      " #   Column               Non-Null Count  Dtype  \n",
      "---  ------               --------------  -----  \n",
      " 0   Age                  6702 non-null   float64\n",
      " 1   Gender               6702 non-null   object \n",
      " 2   Education Level      6701 non-null   object \n",
      " 3   Job Title            6702 non-null   object \n",
      " 4   Years of Experience  6701 non-null   float64\n",
      " 5   Salary               6699 non-null   float64\n",
      "dtypes: float64(3), object(3)\n",
      "memory usage: 314.4+ KB\n"
     ]
    }
   ],
   "source": [
    "salary_data.info()"
   ]
  },
  {
   "cell_type": "code",
   "execution_count": 305,
   "id": "c68ffd47-7422-416a-ada4-5b70ea4f5893",
   "metadata": {},
   "outputs": [
    {
     "data": {
      "text/html": [
       "<div>\n",
       "<style scoped>\n",
       "    .dataframe tbody tr th:only-of-type {\n",
       "        vertical-align: middle;\n",
       "    }\n",
       "\n",
       "    .dataframe tbody tr th {\n",
       "        vertical-align: top;\n",
       "    }\n",
       "\n",
       "    .dataframe thead th {\n",
       "        text-align: right;\n",
       "    }\n",
       "</style>\n",
       "<table border=\"1\" class=\"dataframe\">\n",
       "  <thead>\n",
       "    <tr style=\"text-align: right;\">\n",
       "      <th></th>\n",
       "      <th>Age</th>\n",
       "      <th>Years of Experience</th>\n",
       "      <th>Salary</th>\n",
       "    </tr>\n",
       "  </thead>\n",
       "  <tbody>\n",
       "    <tr>\n",
       "      <th>count</th>\n",
       "      <td>6702.000000</td>\n",
       "      <td>6701.000000</td>\n",
       "      <td>6699.000000</td>\n",
       "    </tr>\n",
       "    <tr>\n",
       "      <th>mean</th>\n",
       "      <td>33.620859</td>\n",
       "      <td>8.094687</td>\n",
       "      <td>115326.964771</td>\n",
       "    </tr>\n",
       "    <tr>\n",
       "      <th>std</th>\n",
       "      <td>7.614633</td>\n",
       "      <td>6.059003</td>\n",
       "      <td>52786.183911</td>\n",
       "    </tr>\n",
       "    <tr>\n",
       "      <th>min</th>\n",
       "      <td>21.000000</td>\n",
       "      <td>0.000000</td>\n",
       "      <td>350.000000</td>\n",
       "    </tr>\n",
       "    <tr>\n",
       "      <th>25%</th>\n",
       "      <td>28.000000</td>\n",
       "      <td>3.000000</td>\n",
       "      <td>70000.000000</td>\n",
       "    </tr>\n",
       "    <tr>\n",
       "      <th>50%</th>\n",
       "      <td>32.000000</td>\n",
       "      <td>7.000000</td>\n",
       "      <td>115000.000000</td>\n",
       "    </tr>\n",
       "    <tr>\n",
       "      <th>75%</th>\n",
       "      <td>38.000000</td>\n",
       "      <td>12.000000</td>\n",
       "      <td>160000.000000</td>\n",
       "    </tr>\n",
       "    <tr>\n",
       "      <th>max</th>\n",
       "      <td>62.000000</td>\n",
       "      <td>34.000000</td>\n",
       "      <td>250000.000000</td>\n",
       "    </tr>\n",
       "  </tbody>\n",
       "</table>\n",
       "</div>"
      ],
      "text/plain": [
       "               Age  Years of Experience         Salary\n",
       "count  6702.000000          6701.000000    6699.000000\n",
       "mean     33.620859             8.094687  115326.964771\n",
       "std       7.614633             6.059003   52786.183911\n",
       "min      21.000000             0.000000     350.000000\n",
       "25%      28.000000             3.000000   70000.000000\n",
       "50%      32.000000             7.000000  115000.000000\n",
       "75%      38.000000            12.000000  160000.000000\n",
       "max      62.000000            34.000000  250000.000000"
      ]
     },
     "execution_count": 305,
     "metadata": {},
     "output_type": "execute_result"
    }
   ],
   "source": [
    "salary_data.describe()"
   ]
  },
  {
   "cell_type": "code",
   "execution_count": 306,
   "id": "dcb3fe0a-6bc9-4154-a0fb-b9ecc57a2972",
   "metadata": {},
   "outputs": [],
   "source": [
    "#Total records are 6704 but all columns are having records less than that so from above we can understand that all columns having null values"
   ]
  },
  {
   "cell_type": "markdown",
   "id": "108e35eb-13cb-4a60-9124-b27ecb6c065e",
   "metadata": {},
   "source": [
    "### Treating null values"
   ]
  },
  {
   "cell_type": "code",
   "execution_count": 307,
   "id": "5146e036-6d87-4fe3-9943-505725c745f9",
   "metadata": {},
   "outputs": [
    {
     "data": {
      "text/html": [
       "<div>\n",
       "<style scoped>\n",
       "    .dataframe tbody tr th:only-of-type {\n",
       "        vertical-align: middle;\n",
       "    }\n",
       "\n",
       "    .dataframe tbody tr th {\n",
       "        vertical-align: top;\n",
       "    }\n",
       "\n",
       "    .dataframe thead th {\n",
       "        text-align: right;\n",
       "    }\n",
       "</style>\n",
       "<table border=\"1\" class=\"dataframe\">\n",
       "  <thead>\n",
       "    <tr style=\"text-align: right;\">\n",
       "      <th></th>\n",
       "      <th>Age</th>\n",
       "      <th>Gender</th>\n",
       "      <th>Education Level</th>\n",
       "      <th>Job Title</th>\n",
       "      <th>Years of Experience</th>\n",
       "      <th>Salary</th>\n",
       "    </tr>\n",
       "  </thead>\n",
       "  <tbody>\n",
       "    <tr>\n",
       "      <th>172</th>\n",
       "      <td>NaN</td>\n",
       "      <td>NaN</td>\n",
       "      <td>NaN</td>\n",
       "      <td>NaN</td>\n",
       "      <td>NaN</td>\n",
       "      <td>NaN</td>\n",
       "    </tr>\n",
       "    <tr>\n",
       "      <th>260</th>\n",
       "      <td>NaN</td>\n",
       "      <td>NaN</td>\n",
       "      <td>NaN</td>\n",
       "      <td>NaN</td>\n",
       "      <td>NaN</td>\n",
       "      <td>NaN</td>\n",
       "    </tr>\n",
       "  </tbody>\n",
       "</table>\n",
       "</div>"
      ],
      "text/plain": [
       "     Age Gender Education Level Job Title  Years of Experience  Salary\n",
       "172  NaN    NaN             NaN       NaN                  NaN     NaN\n",
       "260  NaN    NaN             NaN       NaN                  NaN     NaN"
      ]
     },
     "execution_count": 307,
     "metadata": {},
     "output_type": "execute_result"
    }
   ],
   "source": [
    "salary_data[salary_data['Age'].isnull()]"
   ]
  },
  {
   "cell_type": "code",
   "execution_count": 308,
   "id": "2bb1ff86-dc2f-41db-bb06-72ad722e9d29",
   "metadata": {},
   "outputs": [],
   "source": [
    "#dropping above rows\n",
    "\n",
    "salary_data = salary_data.dropna(subset=['Age'])"
   ]
  },
  {
   "cell_type": "code",
   "execution_count": 309,
   "id": "1017db71-c7d5-44e2-bd75-acfc4d97e7f2",
   "metadata": {},
   "outputs": [
    {
     "data": {
      "text/html": [
       "<div>\n",
       "<style scoped>\n",
       "    .dataframe tbody tr th:only-of-type {\n",
       "        vertical-align: middle;\n",
       "    }\n",
       "\n",
       "    .dataframe tbody tr th {\n",
       "        vertical-align: top;\n",
       "    }\n",
       "\n",
       "    .dataframe thead th {\n",
       "        text-align: right;\n",
       "    }\n",
       "</style>\n",
       "<table border=\"1\" class=\"dataframe\">\n",
       "  <thead>\n",
       "    <tr style=\"text-align: right;\">\n",
       "      <th></th>\n",
       "      <th>Age</th>\n",
       "      <th>Gender</th>\n",
       "      <th>Education Level</th>\n",
       "      <th>Job Title</th>\n",
       "      <th>Years of Experience</th>\n",
       "      <th>Salary</th>\n",
       "    </tr>\n",
       "  </thead>\n",
       "  <tbody>\n",
       "  </tbody>\n",
       "</table>\n",
       "</div>"
      ],
      "text/plain": [
       "Empty DataFrame\n",
       "Columns: [Age, Gender, Education Level, Job Title, Years of Experience, Salary]\n",
       "Index: []"
      ]
     },
     "execution_count": 309,
     "metadata": {},
     "output_type": "execute_result"
    }
   ],
   "source": [
    "salary_data[salary_data['Age'].isnull()]"
   ]
  },
  {
   "cell_type": "code",
   "execution_count": 310,
   "id": "fe33a6d8-c632-4c50-a979-0e45f6426375",
   "metadata": {},
   "outputs": [
    {
     "name": "stdout",
     "output_type": "stream",
     "text": [
      "<class 'pandas.core.frame.DataFrame'>\n",
      "Index: 6702 entries, 0 to 6703\n",
      "Data columns (total 6 columns):\n",
      " #   Column               Non-Null Count  Dtype  \n",
      "---  ------               --------------  -----  \n",
      " 0   Age                  6702 non-null   float64\n",
      " 1   Gender               6702 non-null   object \n",
      " 2   Education Level      6701 non-null   object \n",
      " 3   Job Title            6702 non-null   object \n",
      " 4   Years of Experience  6701 non-null   float64\n",
      " 5   Salary               6699 non-null   float64\n",
      "dtypes: float64(3), object(3)\n",
      "memory usage: 366.5+ KB\n"
     ]
    }
   ],
   "source": [
    "salary_data.info()"
   ]
  },
  {
   "cell_type": "code",
   "execution_count": 311,
   "id": "1531e30e-0106-400f-ab0e-f2a972ef87be",
   "metadata": {},
   "outputs": [],
   "source": [
    "# null values treated for Age, Gender and Job Title"
   ]
  },
  {
   "cell_type": "code",
   "execution_count": 312,
   "id": "9666c895-ebbb-4545-973b-b435ec984094",
   "metadata": {},
   "outputs": [],
   "source": [
    "#looking at null values in Education level"
   ]
  },
  {
   "cell_type": "code",
   "execution_count": 313,
   "id": "6ccf2ab5-6262-4d84-9654-41acd2a2fe00",
   "metadata": {},
   "outputs": [
    {
     "data": {
      "text/html": [
       "<div>\n",
       "<style scoped>\n",
       "    .dataframe tbody tr th:only-of-type {\n",
       "        vertical-align: middle;\n",
       "    }\n",
       "\n",
       "    .dataframe tbody tr th {\n",
       "        vertical-align: top;\n",
       "    }\n",
       "\n",
       "    .dataframe thead th {\n",
       "        text-align: right;\n",
       "    }\n",
       "</style>\n",
       "<table border=\"1\" class=\"dataframe\">\n",
       "  <thead>\n",
       "    <tr style=\"text-align: right;\">\n",
       "      <th></th>\n",
       "      <th>Age</th>\n",
       "      <th>Gender</th>\n",
       "      <th>Education Level</th>\n",
       "      <th>Job Title</th>\n",
       "      <th>Years of Experience</th>\n",
       "      <th>Salary</th>\n",
       "    </tr>\n",
       "  </thead>\n",
       "  <tbody>\n",
       "    <tr>\n",
       "      <th>2011</th>\n",
       "      <td>27.0</td>\n",
       "      <td>Male</td>\n",
       "      <td>NaN</td>\n",
       "      <td>Developer</td>\n",
       "      <td>7.0</td>\n",
       "      <td>100000.0</td>\n",
       "    </tr>\n",
       "  </tbody>\n",
       "</table>\n",
       "</div>"
      ],
      "text/plain": [
       "       Age Gender Education Level  Job Title  Years of Experience    Salary\n",
       "2011  27.0   Male             NaN  Developer                  7.0  100000.0"
      ]
     },
     "execution_count": 313,
     "metadata": {},
     "output_type": "execute_result"
    }
   ],
   "source": [
    "salary_data[salary_data['Education Level'].isnull()]"
   ]
  },
  {
   "cell_type": "code",
   "execution_count": 314,
   "id": "80e9e5f6-b7a4-4206-b48e-c4424cfb377c",
   "metadata": {},
   "outputs": [],
   "source": [
    "#since this row is having all the other details except Education level we will impute value in place of null value"
   ]
  },
  {
   "cell_type": "code",
   "execution_count": 315,
   "id": "544b2cf0-0ad2-49b2-bbea-94b1bdec26dd",
   "metadata": {},
   "outputs": [
    {
     "data": {
      "text/plain": [
       "Education Level\n",
       "Bachelor's Degree    2267\n",
       "Master's Degree      1573\n",
       "PhD                  1368\n",
       "Bachelor's            756\n",
       "High School           448\n",
       "Master's              288\n",
       "phD                     1\n",
       "Name: count, dtype: int64"
      ]
     },
     "execution_count": 315,
     "metadata": {},
     "output_type": "execute_result"
    }
   ],
   "source": [
    "salary_data['Education Level'].value_counts()"
   ]
  },
  {
   "cell_type": "code",
   "execution_count": 316,
   "id": "bd36b1a1-8acd-40e8-86ac-e56a8d229f70",
   "metadata": {},
   "outputs": [],
   "source": [
    "#most of the values are Bachelor's Degree we will impute this value in place of null value"
   ]
  },
  {
   "cell_type": "code",
   "execution_count": 317,
   "id": "fc8ea997-7e92-420e-bd8d-c56bf1352efd",
   "metadata": {},
   "outputs": [],
   "source": [
    "salary_data['Education Level'].fillna(salary_data['Education Level'].mode()[0], inplace=True)"
   ]
  },
  {
   "cell_type": "code",
   "execution_count": 318,
   "id": "7b500263-cec0-4bf6-ba61-3dfd42477a95",
   "metadata": {},
   "outputs": [
    {
     "data": {
      "text/html": [
       "<div>\n",
       "<style scoped>\n",
       "    .dataframe tbody tr th:only-of-type {\n",
       "        vertical-align: middle;\n",
       "    }\n",
       "\n",
       "    .dataframe tbody tr th {\n",
       "        vertical-align: top;\n",
       "    }\n",
       "\n",
       "    .dataframe thead th {\n",
       "        text-align: right;\n",
       "    }\n",
       "</style>\n",
       "<table border=\"1\" class=\"dataframe\">\n",
       "  <thead>\n",
       "    <tr style=\"text-align: right;\">\n",
       "      <th></th>\n",
       "      <th>Age</th>\n",
       "      <th>Gender</th>\n",
       "      <th>Education Level</th>\n",
       "      <th>Job Title</th>\n",
       "      <th>Years of Experience</th>\n",
       "      <th>Salary</th>\n",
       "    </tr>\n",
       "  </thead>\n",
       "  <tbody>\n",
       "  </tbody>\n",
       "</table>\n",
       "</div>"
      ],
      "text/plain": [
       "Empty DataFrame\n",
       "Columns: [Age, Gender, Education Level, Job Title, Years of Experience, Salary]\n",
       "Index: []"
      ]
     },
     "execution_count": 318,
     "metadata": {},
     "output_type": "execute_result"
    }
   ],
   "source": [
    "salary_data[salary_data['Education Level'].isnull()]"
   ]
  },
  {
   "cell_type": "code",
   "execution_count": 319,
   "id": "27996b26-7095-40d7-a892-1f36b301a0e9",
   "metadata": {},
   "outputs": [
    {
     "name": "stdout",
     "output_type": "stream",
     "text": [
      "<class 'pandas.core.frame.DataFrame'>\n",
      "Index: 6702 entries, 0 to 6703\n",
      "Data columns (total 6 columns):\n",
      " #   Column               Non-Null Count  Dtype  \n",
      "---  ------               --------------  -----  \n",
      " 0   Age                  6702 non-null   float64\n",
      " 1   Gender               6702 non-null   object \n",
      " 2   Education Level      6702 non-null   object \n",
      " 3   Job Title            6702 non-null   object \n",
      " 4   Years of Experience  6701 non-null   float64\n",
      " 5   Salary               6699 non-null   float64\n",
      "dtypes: float64(3), object(3)\n",
      "memory usage: 366.5+ KB\n"
     ]
    }
   ],
   "source": [
    "salary_data.info()"
   ]
  },
  {
   "cell_type": "code",
   "execution_count": 320,
   "id": "263ccbd9-eb5a-4213-9a90-ebf9ef77d768",
   "metadata": {},
   "outputs": [],
   "source": [
    "#Treating null values in Years of Experience column"
   ]
  },
  {
   "cell_type": "code",
   "execution_count": 321,
   "id": "7457042d-7677-4ae9-89b4-a00d16b90145",
   "metadata": {},
   "outputs": [
    {
     "data": {
      "text/html": [
       "<div>\n",
       "<style scoped>\n",
       "    .dataframe tbody tr th:only-of-type {\n",
       "        vertical-align: middle;\n",
       "    }\n",
       "\n",
       "    .dataframe tbody tr th {\n",
       "        vertical-align: top;\n",
       "    }\n",
       "\n",
       "    .dataframe thead th {\n",
       "        text-align: right;\n",
       "    }\n",
       "</style>\n",
       "<table border=\"1\" class=\"dataframe\">\n",
       "  <thead>\n",
       "    <tr style=\"text-align: right;\">\n",
       "      <th></th>\n",
       "      <th>Age</th>\n",
       "      <th>Gender</th>\n",
       "      <th>Education Level</th>\n",
       "      <th>Job Title</th>\n",
       "      <th>Years of Experience</th>\n",
       "      <th>Salary</th>\n",
       "    </tr>\n",
       "  </thead>\n",
       "  <tbody>\n",
       "    <tr>\n",
       "      <th>5247</th>\n",
       "      <td>26.0</td>\n",
       "      <td>Female</td>\n",
       "      <td>Bachelor's Degree</td>\n",
       "      <td>Social M</td>\n",
       "      <td>NaN</td>\n",
       "      <td>NaN</td>\n",
       "    </tr>\n",
       "  </tbody>\n",
       "</table>\n",
       "</div>"
      ],
      "text/plain": [
       "       Age  Gender    Education Level Job Title  Years of Experience  Salary\n",
       "5247  26.0  Female  Bachelor's Degree  Social M                  NaN     NaN"
      ]
     },
     "execution_count": 321,
     "metadata": {},
     "output_type": "execute_result"
    }
   ],
   "source": [
    "salary_data[salary_data['Years of Experience'].isnull()]"
   ]
  },
  {
   "cell_type": "code",
   "execution_count": 322,
   "id": "d7028f8a-8b71-4212-a387-bda15b9f435d",
   "metadata": {},
   "outputs": [],
   "source": [
    "#Since here Salary is also showing null, it's no use of treating Years of Experience separately"
   ]
  },
  {
   "cell_type": "code",
   "execution_count": 323,
   "id": "b5f62ec3-a8a9-4bbc-b17c-930bd420c23f",
   "metadata": {},
   "outputs": [],
   "source": [
    "#We will treat Salary column itself for null values"
   ]
  },
  {
   "cell_type": "code",
   "execution_count": 324,
   "id": "89278367-c631-4f51-ba07-de56f65aedef",
   "metadata": {},
   "outputs": [
    {
     "data": {
      "text/html": [
       "<div>\n",
       "<style scoped>\n",
       "    .dataframe tbody tr th:only-of-type {\n",
       "        vertical-align: middle;\n",
       "    }\n",
       "\n",
       "    .dataframe tbody tr th {\n",
       "        vertical-align: top;\n",
       "    }\n",
       "\n",
       "    .dataframe thead th {\n",
       "        text-align: right;\n",
       "    }\n",
       "</style>\n",
       "<table border=\"1\" class=\"dataframe\">\n",
       "  <thead>\n",
       "    <tr style=\"text-align: right;\">\n",
       "      <th></th>\n",
       "      <th>Age</th>\n",
       "      <th>Gender</th>\n",
       "      <th>Education Level</th>\n",
       "      <th>Job Title</th>\n",
       "      <th>Years of Experience</th>\n",
       "      <th>Salary</th>\n",
       "    </tr>\n",
       "  </thead>\n",
       "  <tbody>\n",
       "    <tr>\n",
       "      <th>3136</th>\n",
       "      <td>31.0</td>\n",
       "      <td>Male</td>\n",
       "      <td>Master's Degree</td>\n",
       "      <td>Full Stack Engineer</td>\n",
       "      <td>8.0</td>\n",
       "      <td>NaN</td>\n",
       "    </tr>\n",
       "    <tr>\n",
       "      <th>5247</th>\n",
       "      <td>26.0</td>\n",
       "      <td>Female</td>\n",
       "      <td>Bachelor's Degree</td>\n",
       "      <td>Social M</td>\n",
       "      <td>NaN</td>\n",
       "      <td>NaN</td>\n",
       "    </tr>\n",
       "    <tr>\n",
       "      <th>6455</th>\n",
       "      <td>36.0</td>\n",
       "      <td>Male</td>\n",
       "      <td>Bachelor's Degree</td>\n",
       "      <td>Sales Director</td>\n",
       "      <td>6.0</td>\n",
       "      <td>NaN</td>\n",
       "    </tr>\n",
       "  </tbody>\n",
       "</table>\n",
       "</div>"
      ],
      "text/plain": [
       "       Age  Gender    Education Level            Job Title  \\\n",
       "3136  31.0    Male    Master's Degree  Full Stack Engineer   \n",
       "5247  26.0  Female  Bachelor's Degree             Social M   \n",
       "6455  36.0    Male  Bachelor's Degree       Sales Director   \n",
       "\n",
       "      Years of Experience  Salary  \n",
       "3136                  8.0     NaN  \n",
       "5247                  NaN     NaN  \n",
       "6455                  6.0     NaN  "
      ]
     },
     "execution_count": 324,
     "metadata": {},
     "output_type": "execute_result"
    }
   ],
   "source": [
    "salary_data[salary_data['Salary'].isnull()]"
   ]
  },
  {
   "cell_type": "markdown",
   "id": "8eea03c3-e882-4cf4-8aab-5a193254d5ec",
   "metadata": {},
   "source": [
    "We are working on predicting Salary only by building the model for now let us drop these rows."
   ]
  },
  {
   "cell_type": "code",
   "execution_count": 325,
   "id": "0babcc6c-cccb-40df-9d54-a89c264dd632",
   "metadata": {},
   "outputs": [],
   "source": [
    "salary_data = salary_data.dropna(subset=['Salary'])"
   ]
  },
  {
   "cell_type": "code",
   "execution_count": 326,
   "id": "9404e881-e9bd-417e-9ef0-7eadd0f4cf8c",
   "metadata": {},
   "outputs": [
    {
     "name": "stdout",
     "output_type": "stream",
     "text": [
      "<class 'pandas.core.frame.DataFrame'>\n",
      "Index: 6699 entries, 0 to 6703\n",
      "Data columns (total 6 columns):\n",
      " #   Column               Non-Null Count  Dtype  \n",
      "---  ------               --------------  -----  \n",
      " 0   Age                  6699 non-null   float64\n",
      " 1   Gender               6699 non-null   object \n",
      " 2   Education Level      6699 non-null   object \n",
      " 3   Job Title            6699 non-null   object \n",
      " 4   Years of Experience  6699 non-null   float64\n",
      " 5   Salary               6699 non-null   float64\n",
      "dtypes: float64(3), object(3)\n",
      "memory usage: 366.4+ KB\n"
     ]
    }
   ],
   "source": [
    "salary_data.info()"
   ]
  },
  {
   "cell_type": "markdown",
   "id": "b257abb7-10e4-4cd7-8401-01a3622dec68",
   "metadata": {},
   "source": [
    "#### Now there are no null values."
   ]
  },
  {
   "cell_type": "markdown",
   "id": "819731e4-4cb6-4b84-8c10-de138a53b60d",
   "metadata": {},
   "source": [
    "## Step 2: Visualising the Data\n",
    "\n",
    "Let's now spend some time doing what is arguably the most important step - **understanding the data**.\n",
    "- If there is some obvious multicollinearity going on, this is the first place to catch it\n",
    "- Here's where you'll also identify if some predictors directly have a strong association with the outcome variable\n",
    "\n",
    "We'll visualise our data using `matplotlib` and `seaborn`."
   ]
  },
  {
   "cell_type": "code",
   "execution_count": 327,
   "id": "e6d7dc7c-43b0-427c-b8a7-1203f0076c99",
   "metadata": {},
   "outputs": [],
   "source": [
    "import matplotlib.pyplot as plt\n",
    "import seaborn as sns"
   ]
  },
  {
   "cell_type": "markdown",
   "id": "357bb3d0-df53-400b-9ca5-75cf9f2f37f2",
   "metadata": {},
   "source": [
    "#### Visualising Numeric Variables\n",
    "\n",
    "Let's make a pairplot of all the numeric variables"
   ]
  },
  {
   "cell_type": "code",
   "execution_count": 328,
   "id": "77873a4b-287c-4db5-ad8c-fda909268ddb",
   "metadata": {},
   "outputs": [
    {
     "data": {
      "image/png": "[encoded data removed]",
      "text/plain": [
       "<Figure size 750x750 with 12 Axes>"
      ]
     },
     "metadata": {},
     "output_type": "display_data"
    }
   ],
   "source": [
    "sns.pairplot(salary_data)\n",
    "plt.show()"
   ]
  },
  {
   "cell_type": "markdown",
   "id": "0af05cda-d493-476a-8919-0d9c2a51f3b4",
   "metadata": {},
   "source": [
    "#### Visualising Categorical Variables\n",
    "\n",
    "As you might have noticed, there are a few categorical variables as well. Let's make a boxplot for some of these variables."
   ]
  },
  {
   "cell_type": "code",
   "execution_count": 329,
   "id": "a8e345c5-914a-47c0-a5bf-6264621b4bf5",
   "metadata": {},
   "outputs": [
    {
     "data": {
      "image/png": "[encoded data removed]",
      "text/plain": [
       "<Figure size 2000x1200 with 3 Axes>"
      ]
     },
     "metadata": {},
     "output_type": "display_data"
    }
   ],
   "source": [
    "plt.figure(figsize=(20, 12))\n",
    "plt.subplot(2,3,1)\n",
    "sns.boxplot(x = 'Gender', y = 'Salary', data = salary_data)\n",
    "plt.subplot(2,3,2)\n",
    "sns.boxplot(x = 'Education Level', y = 'Salary', data = salary_data)\n",
    "plt.subplot(2,3,3)\n",
    "sns.boxplot(x = 'Job Title', y = 'Salary', data = salary_data)\n",
    "plt.show()"
   ]
  },
  {
   "cell_type": "markdown",
   "id": "ae0035a7-dbf4-4d2a-ade7-fde78fa26c42",
   "metadata": {},
   "source": [
    "#### Since Job title is having many values we will drop it from Categorical variable."
   ]
  },
  {
   "cell_type": "markdown",
   "id": "c41181a6-5ef7-4342-83bd-9695869cb2fd",
   "metadata": {},
   "source": [
    "#### Education level has category with same values like Bachelor's Degree and Bachelor's, Master's Degree and Master's, PhD and phD. We will change them as one category only and then plot boxplot."
   ]
  },
  {
   "cell_type": "code",
   "execution_count": 330,
   "id": "d777c8a5-c136-4966-a3b6-02c1e7d9c176",
   "metadata": {},
   "outputs": [
    {
     "data": {
      "text/plain": [
       "Education Level\n",
       "Bachelor's Degree    2266\n",
       "Master's Degree      1572\n",
       "PhD                  1368\n",
       "Bachelor's            756\n",
       "High School           448\n",
       "Master's              288\n",
       "phD                     1\n",
       "Name: count, dtype: int64"
      ]
     },
     "execution_count": 330,
     "metadata": {},
     "output_type": "execute_result"
    }
   ],
   "source": [
    "salary_data['Education Level'].value_counts()"
   ]
  },
  {
   "cell_type": "code",
   "execution_count": 331,
   "id": "e55b998a-f4b7-4c24-9db9-358a0a633817",
   "metadata": {},
   "outputs": [],
   "source": [
    "salary_data.loc[salary_data['Education Level'] == \"Bachelor's Degree\", 'Education Level'] = \"Bachelor's\""
   ]
  },
  {
   "cell_type": "code",
   "execution_count": 332,
   "id": "8fe21804-419f-4e72-a706-957220ee237c",
   "metadata": {},
   "outputs": [],
   "source": [
    "salary_data.loc[salary_data['Education Level'] == \"Master's Degree\", 'Education Level'] = \"Master's\""
   ]
  },
  {
   "cell_type": "code",
   "execution_count": 333,
   "id": "386ea826-0912-41b0-b225-4acef7767f10",
   "metadata": {},
   "outputs": [],
   "source": [
    "salary_data.loc[salary_data['Education Level'] == \"phD\", 'Education Level'] = \"PhD\""
   ]
  },
  {
   "cell_type": "code",
   "execution_count": 334,
   "id": "3add8c6f-c642-43a3-924a-52c18eb6637f",
   "metadata": {},
   "outputs": [
    {
     "data": {
      "text/plain": [
       "Education Level\n",
       "Bachelor's     3022\n",
       "Master's       1860\n",
       "PhD            1369\n",
       "High School     448\n",
       "Name: count, dtype: int64"
      ]
     },
     "execution_count": 334,
     "metadata": {},
     "output_type": "execute_result"
    }
   ],
   "source": [
    "salary_data['Education Level'].value_counts()"
   ]
  },
  {
   "cell_type": "markdown",
   "id": "852ba49a-69ec-49ed-84ae-63d93c3eb0f8",
   "metadata": {},
   "source": [
    "#### Now we will plot "
   ]
  },
  {
   "cell_type": "code",
   "execution_count": 335,
   "id": "58313740-929b-476a-bafc-2307e4f89b12",
   "metadata": {},
   "outputs": [
    {
     "data": {
      "image/png": "[encoded data removed]",
      "text/plain": [
       "<Figure size 2000x1200 with 2 Axes>"
      ]
     },
     "metadata": {},
     "output_type": "display_data"
    }
   ],
   "source": [
    "plt.figure(figsize=(20, 12))\n",
    "plt.subplot(2,3,1)\n",
    "sns.boxplot(x = 'Gender', y = 'Salary', data = salary_data)\n",
    "plt.subplot(2,3,2)\n",
    "sns.boxplot(x = 'Education Level', y = 'Salary', data = salary_data)\n",
    "plt.show()"
   ]
  },
  {
   "cell_type": "markdown",
   "id": "64f5173f-42c7-427a-9de8-9e4a00e16917",
   "metadata": {},
   "source": [
    "## Step 3: Data Preparation"
   ]
  },
  {
   "cell_type": "markdown",
   "id": "1f3a6eab-ec6c-4d9e-9b1f-3efcdab6664a",
   "metadata": {},
   "source": [
    "### Dummy Variables"
   ]
  },
  {
   "cell_type": "markdown",
   "id": "833de3fc-db0f-4009-8dc6-5f84f45cd91a",
   "metadata": {},
   "source": [
    "The variable Gender has three levels and Education level has four levels. We need to convert these levels into integer as well.\n",
    "\n",
    "For this, we will use something called dummy variables."
   ]
  },
  {
   "cell_type": "code",
   "execution_count": 336,
   "id": "946f9c7c-b9b2-45e5-bcc6-a4126542c2eb",
   "metadata": {},
   "outputs": [],
   "source": [
    "# Get the dummy variables for the feature 'Gender'"
   ]
  },
  {
   "cell_type": "code",
   "execution_count": 337,
   "id": "20d24997-2d09-42f4-9891-af3260c35fc3",
   "metadata": {},
   "outputs": [],
   "source": [
    "gender = pd.get_dummies(salary_data['Gender'], dtype=int)"
   ]
  },
  {
   "cell_type": "code",
   "execution_count": 338,
   "id": "fd95753e-985c-49bc-94ca-0c577cd4d434",
   "metadata": {},
   "outputs": [
    {
     "data": {
      "text/html": [
       "<div>\n",
       "<style scoped>\n",
       "    .dataframe tbody tr th:only-of-type {\n",
       "        vertical-align: middle;\n",
       "    }\n",
       "\n",
       "    .dataframe tbody tr th {\n",
       "        vertical-align: top;\n",
       "    }\n",
       "\n",
       "    .dataframe thead th {\n",
       "        text-align: right;\n",
       "    }\n",
       "</style>\n",
       "<table border=\"1\" class=\"dataframe\">\n",
       "  <thead>\n",
       "    <tr style=\"text-align: right;\">\n",
       "      <th></th>\n",
       "      <th>Female</th>\n",
       "      <th>Male</th>\n",
       "      <th>Other</th>\n",
       "    </tr>\n",
       "  </thead>\n",
       "  <tbody>\n",
       "    <tr>\n",
       "      <th>0</th>\n",
       "      <td>0</td>\n",
       "      <td>1</td>\n",
       "      <td>0</td>\n",
       "    </tr>\n",
       "    <tr>\n",
       "      <th>1</th>\n",
       "      <td>1</td>\n",
       "      <td>0</td>\n",
       "      <td>0</td>\n",
       "    </tr>\n",
       "    <tr>\n",
       "      <th>2</th>\n",
       "      <td>0</td>\n",
       "      <td>1</td>\n",
       "      <td>0</td>\n",
       "    </tr>\n",
       "    <tr>\n",
       "      <th>3</th>\n",
       "      <td>1</td>\n",
       "      <td>0</td>\n",
       "      <td>0</td>\n",
       "    </tr>\n",
       "    <tr>\n",
       "      <th>4</th>\n",
       "      <td>0</td>\n",
       "      <td>1</td>\n",
       "      <td>0</td>\n",
       "    </tr>\n",
       "  </tbody>\n",
       "</table>\n",
       "</div>"
      ],
      "text/plain": [
       "   Female  Male  Other\n",
       "0       0     1      0\n",
       "1       1     0      0\n",
       "2       0     1      0\n",
       "3       1     0      0\n",
       "4       0     1      0"
      ]
     },
     "execution_count": 338,
     "metadata": {},
     "output_type": "execute_result"
    }
   ],
   "source": [
    "gender.head()"
   ]
  },
  {
   "cell_type": "markdown",
   "id": "db7b434e-8916-4eae-bf6f-0117dffbc91a",
   "metadata": {},
   "source": [
    "Now, the type of Gender can be identified as — \n",
    "- `100` will correspond to `Female`\n",
    "- `010` will correspond to `Other`\n",
    "- `001` will correspond to `Male`"
   ]
  },
  {
   "cell_type": "code",
   "execution_count": 339,
   "id": "76d2df9b-2e91-493d-ab93-5f3e5312d059",
   "metadata": {},
   "outputs": [],
   "source": [
    "# Add the results to the original salary_data dataframe\n",
    "\n",
    "salary_data = pd.concat([salary_data, gender], axis = 1)"
   ]
  },
  {
   "cell_type": "code",
   "execution_count": 340,
   "id": "dc5a1a64-0117-48a4-b014-651ba7a18d02",
   "metadata": {},
   "outputs": [
    {
     "data": {
      "text/html": [
       "<div>\n",
       "<style scoped>\n",
       "    .dataframe tbody tr th:only-of-type {\n",
       "        vertical-align: middle;\n",
       "    }\n",
       "\n",
       "    .dataframe tbody tr th {\n",
       "        vertical-align: top;\n",
       "    }\n",
       "\n",
       "    .dataframe thead th {\n",
       "        text-align: right;\n",
       "    }\n",
       "</style>\n",
       "<table border=\"1\" class=\"dataframe\">\n",
       "  <thead>\n",
       "    <tr style=\"text-align: right;\">\n",
       "      <th></th>\n",
       "      <th>Age</th>\n",
       "      <th>Gender</th>\n",
       "      <th>Education Level</th>\n",
       "      <th>Job Title</th>\n",
       "      <th>Years of Experience</th>\n",
       "      <th>Salary</th>\n",
       "      <th>Female</th>\n",
       "      <th>Male</th>\n",
       "      <th>Other</th>\n",
       "    </tr>\n",
       "  </thead>\n",
       "  <tbody>\n",
       "    <tr>\n",
       "      <th>0</th>\n",
       "      <td>32.0</td>\n",
       "      <td>Male</td>\n",
       "      <td>Bachelor's</td>\n",
       "      <td>Software Engineer</td>\n",
       "      <td>5.0</td>\n",
       "      <td>90000.0</td>\n",
       "      <td>0</td>\n",
       "      <td>1</td>\n",
       "      <td>0</td>\n",
       "    </tr>\n",
       "    <tr>\n",
       "      <th>1</th>\n",
       "      <td>28.0</td>\n",
       "      <td>Female</td>\n",
       "      <td>Master's</td>\n",
       "      <td>Data Analyst</td>\n",
       "      <td>3.0</td>\n",
       "      <td>65000.0</td>\n",
       "      <td>1</td>\n",
       "      <td>0</td>\n",
       "      <td>0</td>\n",
       "    </tr>\n",
       "    <tr>\n",
       "      <th>2</th>\n",
       "      <td>45.0</td>\n",
       "      <td>Male</td>\n",
       "      <td>PhD</td>\n",
       "      <td>Senior Manager</td>\n",
       "      <td>15.0</td>\n",
       "      <td>150000.0</td>\n",
       "      <td>0</td>\n",
       "      <td>1</td>\n",
       "      <td>0</td>\n",
       "    </tr>\n",
       "    <tr>\n",
       "      <th>3</th>\n",
       "      <td>36.0</td>\n",
       "      <td>Female</td>\n",
       "      <td>Bachelor's</td>\n",
       "      <td>Sales Associate</td>\n",
       "      <td>7.0</td>\n",
       "      <td>60000.0</td>\n",
       "      <td>1</td>\n",
       "      <td>0</td>\n",
       "      <td>0</td>\n",
       "    </tr>\n",
       "    <tr>\n",
       "      <th>4</th>\n",
       "      <td>52.0</td>\n",
       "      <td>Male</td>\n",
       "      <td>Master's</td>\n",
       "      <td>Director</td>\n",
       "      <td>20.0</td>\n",
       "      <td>200000.0</td>\n",
       "      <td>0</td>\n",
       "      <td>1</td>\n",
       "      <td>0</td>\n",
       "    </tr>\n",
       "  </tbody>\n",
       "</table>\n",
       "</div>"
      ],
      "text/plain": [
       "    Age  Gender Education Level          Job Title  Years of Experience  \\\n",
       "0  32.0    Male      Bachelor's  Software Engineer                  5.0   \n",
       "1  28.0  Female        Master's       Data Analyst                  3.0   \n",
       "2  45.0    Male             PhD     Senior Manager                 15.0   \n",
       "3  36.0  Female      Bachelor's    Sales Associate                  7.0   \n",
       "4  52.0    Male        Master's           Director                 20.0   \n",
       "\n",
       "     Salary  Female  Male  Other  \n",
       "0   90000.0       0     1      0  \n",
       "1   65000.0       1     0      0  \n",
       "2  150000.0       0     1      0  \n",
       "3   60000.0       1     0      0  \n",
       "4  200000.0       0     1      0  "
      ]
     },
     "execution_count": 340,
     "metadata": {},
     "output_type": "execute_result"
    }
   ],
   "source": [
    "salary_data.head()"
   ]
  },
  {
   "cell_type": "code",
   "execution_count": 341,
   "id": "09d01c93-c605-458a-ba5a-7ee357ce284b",
   "metadata": {},
   "outputs": [],
   "source": [
    "# Drop 'Gender' as we have created the dummies for it\n",
    "\n",
    "salary_data.drop(['Gender'], axis = 1, inplace = True)"
   ]
  },
  {
   "cell_type": "code",
   "execution_count": 342,
   "id": "e99b12a7-a67a-4766-8e9a-36e54212815e",
   "metadata": {},
   "outputs": [
    {
     "data": {
      "text/html": [
       "<div>\n",
       "<style scoped>\n",
       "    .dataframe tbody tr th:only-of-type {\n",
       "        vertical-align: middle;\n",
       "    }\n",
       "\n",
       "    .dataframe tbody tr th {\n",
       "        vertical-align: top;\n",
       "    }\n",
       "\n",
       "    .dataframe thead th {\n",
       "        text-align: right;\n",
       "    }\n",
       "</style>\n",
       "<table border=\"1\" class=\"dataframe\">\n",
       "  <thead>\n",
       "    <tr style=\"text-align: right;\">\n",
       "      <th></th>\n",
       "      <th>Age</th>\n",
       "      <th>Education Level</th>\n",
       "      <th>Job Title</th>\n",
       "      <th>Years of Experience</th>\n",
       "      <th>Salary</th>\n",
       "      <th>Female</th>\n",
       "      <th>Male</th>\n",
       "      <th>Other</th>\n",
       "    </tr>\n",
       "  </thead>\n",
       "  <tbody>\n",
       "    <tr>\n",
       "      <th>0</th>\n",
       "      <td>32.0</td>\n",
       "      <td>Bachelor's</td>\n",
       "      <td>Software Engineer</td>\n",
       "      <td>5.0</td>\n",
       "      <td>90000.0</td>\n",
       "      <td>0</td>\n",
       "      <td>1</td>\n",
       "      <td>0</td>\n",
       "    </tr>\n",
       "    <tr>\n",
       "      <th>1</th>\n",
       "      <td>28.0</td>\n",
       "      <td>Master's</td>\n",
       "      <td>Data Analyst</td>\n",
       "      <td>3.0</td>\n",
       "      <td>65000.0</td>\n",
       "      <td>1</td>\n",
       "      <td>0</td>\n",
       "      <td>0</td>\n",
       "    </tr>\n",
       "    <tr>\n",
       "      <th>2</th>\n",
       "      <td>45.0</td>\n",
       "      <td>PhD</td>\n",
       "      <td>Senior Manager</td>\n",
       "      <td>15.0</td>\n",
       "      <td>150000.0</td>\n",
       "      <td>0</td>\n",
       "      <td>1</td>\n",
       "      <td>0</td>\n",
       "    </tr>\n",
       "    <tr>\n",
       "      <th>3</th>\n",
       "      <td>36.0</td>\n",
       "      <td>Bachelor's</td>\n",
       "      <td>Sales Associate</td>\n",
       "      <td>7.0</td>\n",
       "      <td>60000.0</td>\n",
       "      <td>1</td>\n",
       "      <td>0</td>\n",
       "      <td>0</td>\n",
       "    </tr>\n",
       "    <tr>\n",
       "      <th>4</th>\n",
       "      <td>52.0</td>\n",
       "      <td>Master's</td>\n",
       "      <td>Director</td>\n",
       "      <td>20.0</td>\n",
       "      <td>200000.0</td>\n",
       "      <td>0</td>\n",
       "      <td>1</td>\n",
       "      <td>0</td>\n",
       "    </tr>\n",
       "  </tbody>\n",
       "</table>\n",
       "</div>"
      ],
      "text/plain": [
       "    Age Education Level          Job Title  Years of Experience    Salary  \\\n",
       "0  32.0      Bachelor's  Software Engineer                  5.0   90000.0   \n",
       "1  28.0        Master's       Data Analyst                  3.0   65000.0   \n",
       "2  45.0             PhD     Senior Manager                 15.0  150000.0   \n",
       "3  36.0      Bachelor's    Sales Associate                  7.0   60000.0   \n",
       "4  52.0        Master's           Director                 20.0  200000.0   \n",
       "\n",
       "   Female  Male  Other  \n",
       "0       0     1      0  \n",
       "1       1     0      0  \n",
       "2       0     1      0  \n",
       "3       1     0      0  \n",
       "4       0     1      0  "
      ]
     },
     "execution_count": 342,
     "metadata": {},
     "output_type": "execute_result"
    }
   ],
   "source": [
    "salary_data.head()"
   ]
  },
  {
   "cell_type": "code",
   "execution_count": 343,
   "id": "0d579230-0276-42e9-b881-cbcdc2fcd6bc",
   "metadata": {},
   "outputs": [],
   "source": [
    "# Get the dummy variables for the feature 'Education Level'"
   ]
  },
  {
   "cell_type": "code",
   "execution_count": 344,
   "id": "4f5d8b22-3bb7-49de-b70e-1584afb73e64",
   "metadata": {},
   "outputs": [],
   "source": [
    "edu_level = pd.get_dummies(salary_data['Education Level'], dtype=int)"
   ]
  },
  {
   "cell_type": "code",
   "execution_count": 345,
   "id": "d8617a7b-1d15-40cc-b16b-e982f7a9336c",
   "metadata": {},
   "outputs": [
    {
     "data": {
      "text/html": [
       "<div>\n",
       "<style scoped>\n",
       "    .dataframe tbody tr th:only-of-type {\n",
       "        vertical-align: middle;\n",
       "    }\n",
       "\n",
       "    .dataframe tbody tr th {\n",
       "        vertical-align: top;\n",
       "    }\n",
       "\n",
       "    .dataframe thead th {\n",
       "        text-align: right;\n",
       "    }\n",
       "</style>\n",
       "<table border=\"1\" class=\"dataframe\">\n",
       "  <thead>\n",
       "    <tr style=\"text-align: right;\">\n",
       "      <th></th>\n",
       "      <th>Bachelor's</th>\n",
       "      <th>High School</th>\n",
       "      <th>Master's</th>\n",
       "      <th>PhD</th>\n",
       "    </tr>\n",
       "  </thead>\n",
       "  <tbody>\n",
       "    <tr>\n",
       "      <th>0</th>\n",
       "      <td>1</td>\n",
       "      <td>0</td>\n",
       "      <td>0</td>\n",
       "      <td>0</td>\n",
       "    </tr>\n",
       "    <tr>\n",
       "      <th>1</th>\n",
       "      <td>0</td>\n",
       "      <td>0</td>\n",
       "      <td>1</td>\n",
       "      <td>0</td>\n",
       "    </tr>\n",
       "    <tr>\n",
       "      <th>2</th>\n",
       "      <td>0</td>\n",
       "      <td>0</td>\n",
       "      <td>0</td>\n",
       "      <td>1</td>\n",
       "    </tr>\n",
       "    <tr>\n",
       "      <th>3</th>\n",
       "      <td>1</td>\n",
       "      <td>0</td>\n",
       "      <td>0</td>\n",
       "      <td>0</td>\n",
       "    </tr>\n",
       "    <tr>\n",
       "      <th>4</th>\n",
       "      <td>0</td>\n",
       "      <td>0</td>\n",
       "      <td>1</td>\n",
       "      <td>0</td>\n",
       "    </tr>\n",
       "  </tbody>\n",
       "</table>\n",
       "</div>"
      ],
      "text/plain": [
       "   Bachelor's  High School  Master's  PhD\n",
       "0           1            0         0    0\n",
       "1           0            0         1    0\n",
       "2           0            0         0    1\n",
       "3           1            0         0    0\n",
       "4           0            0         1    0"
      ]
     },
     "execution_count": 345,
     "metadata": {},
     "output_type": "execute_result"
    }
   ],
   "source": [
    "edu_level.head()"
   ]
  },
  {
   "cell_type": "markdown",
   "id": "dd315343-c65b-45e8-8717-6a61b0b24a62",
   "metadata": {},
   "source": [
    "Now, the type of Education Level can be identified as — \n",
    "- `1000` will correspond to `Bachelor's`\n",
    "- `0100` will correspond to `High School`\n",
    "- `0010` will correspond to `Master's`\n",
    "- `0001` will correspond to `Phd`"
   ]
  },
  {
   "cell_type": "code",
   "execution_count": 346,
   "id": "18874235-9381-492a-abae-c462a8987e96",
   "metadata": {},
   "outputs": [],
   "source": [
    "# Add the results to the original salary_data dataframe\n",
    "\n",
    "salary_data = pd.concat([salary_data, edu_level], axis = 1)"
   ]
  },
  {
   "cell_type": "code",
   "execution_count": 347,
   "id": "179c8070-ad6f-4a8c-be38-e1811e280a1d",
   "metadata": {},
   "outputs": [
    {
     "data": {
      "text/html": [
       "<div>\n",
       "<style scoped>\n",
       "    .dataframe tbody tr th:only-of-type {\n",
       "        vertical-align: middle;\n",
       "    }\n",
       "\n",
       "    .dataframe tbody tr th {\n",
       "        vertical-align: top;\n",
       "    }\n",
       "\n",
       "    .dataframe thead th {\n",
       "        text-align: right;\n",
       "    }\n",
       "</style>\n",
       "<table border=\"1\" class=\"dataframe\">\n",
       "  <thead>\n",
       "    <tr style=\"text-align: right;\">\n",
       "      <th></th>\n",
       "      <th>Age</th>\n",
       "      <th>Education Level</th>\n",
       "      <th>Job Title</th>\n",
       "      <th>Years of Experience</th>\n",
       "      <th>Salary</th>\n",
       "      <th>Female</th>\n",
       "      <th>Male</th>\n",
       "      <th>Other</th>\n",
       "      <th>Bachelor's</th>\n",
       "      <th>High School</th>\n",
       "      <th>Master's</th>\n",
       "      <th>PhD</th>\n",
       "    </tr>\n",
       "  </thead>\n",
       "  <tbody>\n",
       "    <tr>\n",
       "      <th>0</th>\n",
       "      <td>32.0</td>\n",
       "      <td>Bachelor's</td>\n",
       "      <td>Software Engineer</td>\n",
       "      <td>5.0</td>\n",
       "      <td>90000.0</td>\n",
       "      <td>0</td>\n",
       "      <td>1</td>\n",
       "      <td>0</td>\n",
       "      <td>1</td>\n",
       "      <td>0</td>\n",
       "      <td>0</td>\n",
       "      <td>0</td>\n",
       "    </tr>\n",
       "    <tr>\n",
       "      <th>1</th>\n",
       "      <td>28.0</td>\n",
       "      <td>Master's</td>\n",
       "      <td>Data Analyst</td>\n",
       "      <td>3.0</td>\n",
       "      <td>65000.0</td>\n",
       "      <td>1</td>\n",
       "      <td>0</td>\n",
       "      <td>0</td>\n",
       "      <td>0</td>\n",
       "      <td>0</td>\n",
       "      <td>1</td>\n",
       "      <td>0</td>\n",
       "    </tr>\n",
       "    <tr>\n",
       "      <th>2</th>\n",
       "      <td>45.0</td>\n",
       "      <td>PhD</td>\n",
       "      <td>Senior Manager</td>\n",
       "      <td>15.0</td>\n",
       "      <td>150000.0</td>\n",
       "      <td>0</td>\n",
       "      <td>1</td>\n",
       "      <td>0</td>\n",
       "      <td>0</td>\n",
       "      <td>0</td>\n",
       "      <td>0</td>\n",
       "      <td>1</td>\n",
       "    </tr>\n",
       "    <tr>\n",
       "      <th>3</th>\n",
       "      <td>36.0</td>\n",
       "      <td>Bachelor's</td>\n",
       "      <td>Sales Associate</td>\n",
       "      <td>7.0</td>\n",
       "      <td>60000.0</td>\n",
       "      <td>1</td>\n",
       "      <td>0</td>\n",
       "      <td>0</td>\n",
       "      <td>1</td>\n",
       "      <td>0</td>\n",
       "      <td>0</td>\n",
       "      <td>0</td>\n",
       "    </tr>\n",
       "    <tr>\n",
       "      <th>4</th>\n",
       "      <td>52.0</td>\n",
       "      <td>Master's</td>\n",
       "      <td>Director</td>\n",
       "      <td>20.0</td>\n",
       "      <td>200000.0</td>\n",
       "      <td>0</td>\n",
       "      <td>1</td>\n",
       "      <td>0</td>\n",
       "      <td>0</td>\n",
       "      <td>0</td>\n",
       "      <td>1</td>\n",
       "      <td>0</td>\n",
       "    </tr>\n",
       "  </tbody>\n",
       "</table>\n",
       "</div>"
      ],
      "text/plain": [
       "    Age Education Level          Job Title  Years of Experience    Salary  \\\n",
       "0  32.0      Bachelor's  Software Engineer                  5.0   90000.0   \n",
       "1  28.0        Master's       Data Analyst                  3.0   65000.0   \n",
       "2  45.0             PhD     Senior Manager                 15.0  150000.0   \n",
       "3  36.0      Bachelor's    Sales Associate                  7.0   60000.0   \n",
       "4  52.0        Master's           Director                 20.0  200000.0   \n",
       "\n",
       "   Female  Male  Other  Bachelor's  High School  Master's  PhD  \n",
       "0       0     1      0           1            0         0    0  \n",
       "1       1     0      0           0            0         1    0  \n",
       "2       0     1      0           0            0         0    1  \n",
       "3       1     0      0           1            0         0    0  \n",
       "4       0     1      0           0            0         1    0  "
      ]
     },
     "execution_count": 347,
     "metadata": {},
     "output_type": "execute_result"
    }
   ],
   "source": [
    "salary_data.head()"
   ]
  },
  {
   "cell_type": "code",
   "execution_count": 348,
   "id": "3c26b9dc-2983-4b56-89fe-e950fd2ee380",
   "metadata": {},
   "outputs": [],
   "source": [
    "# Drop 'Education Level' as we have created the dummies for it\n",
    "\n",
    "salary_data.drop(['Education Level'], axis = 1, inplace = True)"
   ]
  },
  {
   "cell_type": "code",
   "execution_count": 349,
   "id": "6c7169f6-1808-4734-9763-8391f52e2bd9",
   "metadata": {},
   "outputs": [
    {
     "data": {
      "text/html": [
       "<div>\n",
       "<style scoped>\n",
       "    .dataframe tbody tr th:only-of-type {\n",
       "        vertical-align: middle;\n",
       "    }\n",
       "\n",
       "    .dataframe tbody tr th {\n",
       "        vertical-align: top;\n",
       "    }\n",
       "\n",
       "    .dataframe thead th {\n",
       "        text-align: right;\n",
       "    }\n",
       "</style>\n",
       "<table border=\"1\" class=\"dataframe\">\n",
       "  <thead>\n",
       "    <tr style=\"text-align: right;\">\n",
       "      <th></th>\n",
       "      <th>Age</th>\n",
       "      <th>Job Title</th>\n",
       "      <th>Years of Experience</th>\n",
       "      <th>Salary</th>\n",
       "      <th>Female</th>\n",
       "      <th>Male</th>\n",
       "      <th>Other</th>\n",
       "      <th>Bachelor's</th>\n",
       "      <th>High School</th>\n",
       "      <th>Master's</th>\n",
       "      <th>PhD</th>\n",
       "    </tr>\n",
       "  </thead>\n",
       "  <tbody>\n",
       "    <tr>\n",
       "      <th>0</th>\n",
       "      <td>32.0</td>\n",
       "      <td>Software Engineer</td>\n",
       "      <td>5.0</td>\n",
       "      <td>90000.0</td>\n",
       "      <td>0</td>\n",
       "      <td>1</td>\n",
       "      <td>0</td>\n",
       "      <td>1</td>\n",
       "      <td>0</td>\n",
       "      <td>0</td>\n",
       "      <td>0</td>\n",
       "    </tr>\n",
       "    <tr>\n",
       "      <th>1</th>\n",
       "      <td>28.0</td>\n",
       "      <td>Data Analyst</td>\n",
       "      <td>3.0</td>\n",
       "      <td>65000.0</td>\n",
       "      <td>1</td>\n",
       "      <td>0</td>\n",
       "      <td>0</td>\n",
       "      <td>0</td>\n",
       "      <td>0</td>\n",
       "      <td>1</td>\n",
       "      <td>0</td>\n",
       "    </tr>\n",
       "    <tr>\n",
       "      <th>2</th>\n",
       "      <td>45.0</td>\n",
       "      <td>Senior Manager</td>\n",
       "      <td>15.0</td>\n",
       "      <td>150000.0</td>\n",
       "      <td>0</td>\n",
       "      <td>1</td>\n",
       "      <td>0</td>\n",
       "      <td>0</td>\n",
       "      <td>0</td>\n",
       "      <td>0</td>\n",
       "      <td>1</td>\n",
       "    </tr>\n",
       "    <tr>\n",
       "      <th>3</th>\n",
       "      <td>36.0</td>\n",
       "      <td>Sales Associate</td>\n",
       "      <td>7.0</td>\n",
       "      <td>60000.0</td>\n",
       "      <td>1</td>\n",
       "      <td>0</td>\n",
       "      <td>0</td>\n",
       "      <td>1</td>\n",
       "      <td>0</td>\n",
       "      <td>0</td>\n",
       "      <td>0</td>\n",
       "    </tr>\n",
       "    <tr>\n",
       "      <th>4</th>\n",
       "      <td>52.0</td>\n",
       "      <td>Director</td>\n",
       "      <td>20.0</td>\n",
       "      <td>200000.0</td>\n",
       "      <td>0</td>\n",
       "      <td>1</td>\n",
       "      <td>0</td>\n",
       "      <td>0</td>\n",
       "      <td>0</td>\n",
       "      <td>1</td>\n",
       "      <td>0</td>\n",
       "    </tr>\n",
       "  </tbody>\n",
       "</table>\n",
       "</div>"
      ],
      "text/plain": [
       "    Age          Job Title  Years of Experience    Salary  Female  Male  \\\n",
       "0  32.0  Software Engineer                  5.0   90000.0       0     1   \n",
       "1  28.0       Data Analyst                  3.0   65000.0       1     0   \n",
       "2  45.0     Senior Manager                 15.0  150000.0       0     1   \n",
       "3  36.0    Sales Associate                  7.0   60000.0       1     0   \n",
       "4  52.0           Director                 20.0  200000.0       0     1   \n",
       "\n",
       "   Other  Bachelor's  High School  Master's  PhD  \n",
       "0      0           1            0         0    0  \n",
       "1      0           0            0         1    0  \n",
       "2      0           0            0         0    1  \n",
       "3      0           1            0         0    0  \n",
       "4      0           0            0         1    0  "
      ]
     },
     "execution_count": 349,
     "metadata": {},
     "output_type": "execute_result"
    }
   ],
   "source": [
    "salary_data.head()"
   ]
  },
  {
   "cell_type": "markdown",
   "id": "14cc3deb-c80d-40d1-8c61-287650859935",
   "metadata": {},
   "source": [
    "#### Now we have almost all columns with Numerical Values except `Job Title`."
   ]
  },
  {
   "cell_type": "code",
   "execution_count": 350,
   "id": "c3bf5c07-181e-47ed-a807-2f6e03dfa413",
   "metadata": {},
   "outputs": [
    {
     "data": {
      "text/plain": [
       "Job Title\n",
       "Software Engineer             518\n",
       "Data Scientist                453\n",
       "Software Engineer Manager     376\n",
       "Data Analyst                  363\n",
       "Senior Project Engineer       318\n",
       "                             ... \n",
       "Account Manager                 1\n",
       "Help Desk Analyst               1\n",
       "Senior Training Specialist      1\n",
       "Junior Web Designer             1\n",
       "Supply Chain Analyst            1\n",
       "Name: count, Length: 192, dtype: int64"
      ]
     },
     "execution_count": 350,
     "metadata": {},
     "output_type": "execute_result"
    }
   ],
   "source": [
    "salary_data['Job Title'].value_counts()"
   ]
  },
  {
   "cell_type": "markdown",
   "id": "18b7a1e0-d184-42dc-b8e2-035ee90b51b4",
   "metadata": {},
   "source": [
    "#### Since this is having many categories (192) it will be difficult to convert it to dummy variables. Hence we will ignore this column while building Multiple Linear Regression model."
   ]
  },
  {
   "cell_type": "code",
   "execution_count": 351,
   "id": "37a710ca-1063-432c-baaa-50c6bfa18464",
   "metadata": {},
   "outputs": [],
   "source": [
    "#We will drop this column and create new DataFrame\n",
    "salary = salary_data.drop('Job Title', axis=1)"
   ]
  },
  {
   "cell_type": "code",
   "execution_count": 352,
   "id": "d81b36d8-954b-4760-87e7-b0944e163fcd",
   "metadata": {},
   "outputs": [
    {
     "data": {
      "text/html": [
       "<div>\n",
       "<style scoped>\n",
       "    .dataframe tbody tr th:only-of-type {\n",
       "        vertical-align: middle;\n",
       "    }\n",
       "\n",
       "    .dataframe tbody tr th {\n",
       "        vertical-align: top;\n",
       "    }\n",
       "\n",
       "    .dataframe thead th {\n",
       "        text-align: right;\n",
       "    }\n",
       "</style>\n",
       "<table border=\"1\" class=\"dataframe\">\n",
       "  <thead>\n",
       "    <tr style=\"text-align: right;\">\n",
       "      <th></th>\n",
       "      <th>Age</th>\n",
       "      <th>Years of Experience</th>\n",
       "      <th>Salary</th>\n",
       "      <th>Female</th>\n",
       "      <th>Male</th>\n",
       "      <th>Other</th>\n",
       "      <th>Bachelor's</th>\n",
       "      <th>High School</th>\n",
       "      <th>Master's</th>\n",
       "      <th>PhD</th>\n",
       "    </tr>\n",
       "  </thead>\n",
       "  <tbody>\n",
       "    <tr>\n",
       "      <th>0</th>\n",
       "      <td>32.0</td>\n",
       "      <td>5.0</td>\n",
       "      <td>90000.0</td>\n",
       "      <td>0</td>\n",
       "      <td>1</td>\n",
       "      <td>0</td>\n",
       "      <td>1</td>\n",
       "      <td>0</td>\n",
       "      <td>0</td>\n",
       "      <td>0</td>\n",
       "    </tr>\n",
       "    <tr>\n",
       "      <th>1</th>\n",
       "      <td>28.0</td>\n",
       "      <td>3.0</td>\n",
       "      <td>65000.0</td>\n",
       "      <td>1</td>\n",
       "      <td>0</td>\n",
       "      <td>0</td>\n",
       "      <td>0</td>\n",
       "      <td>0</td>\n",
       "      <td>1</td>\n",
       "      <td>0</td>\n",
       "    </tr>\n",
       "    <tr>\n",
       "      <th>2</th>\n",
       "      <td>45.0</td>\n",
       "      <td>15.0</td>\n",
       "      <td>150000.0</td>\n",
       "      <td>0</td>\n",
       "      <td>1</td>\n",
       "      <td>0</td>\n",
       "      <td>0</td>\n",
       "      <td>0</td>\n",
       "      <td>0</td>\n",
       "      <td>1</td>\n",
       "    </tr>\n",
       "    <tr>\n",
       "      <th>3</th>\n",
       "      <td>36.0</td>\n",
       "      <td>7.0</td>\n",
       "      <td>60000.0</td>\n",
       "      <td>1</td>\n",
       "      <td>0</td>\n",
       "      <td>0</td>\n",
       "      <td>1</td>\n",
       "      <td>0</td>\n",
       "      <td>0</td>\n",
       "      <td>0</td>\n",
       "    </tr>\n",
       "    <tr>\n",
       "      <th>4</th>\n",
       "      <td>52.0</td>\n",
       "      <td>20.0</td>\n",
       "      <td>200000.0</td>\n",
       "      <td>0</td>\n",
       "      <td>1</td>\n",
       "      <td>0</td>\n",
       "      <td>0</td>\n",
       "      <td>0</td>\n",
       "      <td>1</td>\n",
       "      <td>0</td>\n",
       "    </tr>\n",
       "  </tbody>\n",
       "</table>\n",
       "</div>"
      ],
      "text/plain": [
       "    Age  Years of Experience    Salary  Female  Male  Other  Bachelor's  \\\n",
       "0  32.0                  5.0   90000.0       0     1      0           1   \n",
       "1  28.0                  3.0   65000.0       1     0      0           0   \n",
       "2  45.0                 15.0  150000.0       0     1      0           0   \n",
       "3  36.0                  7.0   60000.0       1     0      0           1   \n",
       "4  52.0                 20.0  200000.0       0     1      0           0   \n",
       "\n",
       "   High School  Master's  PhD  \n",
       "0            0         0    0  \n",
       "1            0         1    0  \n",
       "2            0         0    1  \n",
       "3            0         0    0  \n",
       "4            0         1    0  "
      ]
     },
     "execution_count": 352,
     "metadata": {},
     "output_type": "execute_result"
    }
   ],
   "source": [
    "salary.head()"
   ]
  },
  {
   "cell_type": "markdown",
   "id": "e65c0507-4b86-4fc7-8c69-b3122bbf3e69",
   "metadata": {},
   "source": [
    "## Step 4: Splitting the Data into Training and Testing Sets\n",
    "\n",
    "As you know, the first basic step for regression is performing a train-test split."
   ]
  },
  {
   "cell_type": "code",
   "execution_count": 353,
   "id": "4c3b1e68-dbb9-43bc-9802-b2aa3d78e2e7",
   "metadata": {},
   "outputs": [],
   "source": [
    "from sklearn.model_selection import train_test_split\n",
    "\n",
    "# We specify this so that the train and test data set always have the same rows, respectively\n",
    "df_train, df_test = train_test_split(salary, train_size = 0.7, test_size = 0.3, random_state = 23)"
   ]
  },
  {
   "cell_type": "markdown",
   "id": "ddaf4bdf-373a-47eb-b4fd-b07d8891891c",
   "metadata": {},
   "source": [
    "### Rescaling the Features "
   ]
  },
  {
   "cell_type": "code",
   "execution_count": 354,
   "id": "b09a5077-aeaf-443a-9f05-afb7510b0dbf",
   "metadata": {},
   "outputs": [],
   "source": [
    "from sklearn.preprocessing import MinMaxScaler"
   ]
  },
  {
   "cell_type": "code",
   "execution_count": 355,
   "id": "86c6e8eb-f672-44db-9f7b-71eff7407e40",
   "metadata": {},
   "outputs": [],
   "source": [
    "scaler = MinMaxScaler()"
   ]
  },
  {
   "cell_type": "code",
   "execution_count": 356,
   "id": "976dcbbd-53a1-4b02-bee9-e8229f21df9d",
   "metadata": {},
   "outputs": [],
   "source": [
    "# Apply scaler() to all the columns except the 'dummy' variables\n",
    "num_vars = ['Age', 'Years of Experience', 'Salary']\n",
    "\n",
    "df_train[num_vars] = scaler.fit_transform(df_train[num_vars])"
   ]
  },
  {
   "cell_type": "code",
   "execution_count": 357,
   "id": "bf48df44-4d76-47b8-8829-f896f5b99077",
   "metadata": {},
   "outputs": [
    {
     "data": {
      "text/html": [
       "<div>\n",
       "<style scoped>\n",
       "    .dataframe tbody tr th:only-of-type {\n",
       "        vertical-align: middle;\n",
       "    }\n",
       "\n",
       "    .dataframe tbody tr th {\n",
       "        vertical-align: top;\n",
       "    }\n",
       "\n",
       "    .dataframe thead th {\n",
       "        text-align: right;\n",
       "    }\n",
       "</style>\n",
       "<table border=\"1\" class=\"dataframe\">\n",
       "  <thead>\n",
       "    <tr style=\"text-align: right;\">\n",
       "      <th></th>\n",
       "      <th>Age</th>\n",
       "      <th>Years of Experience</th>\n",
       "      <th>Salary</th>\n",
       "      <th>Female</th>\n",
       "      <th>Male</th>\n",
       "      <th>Other</th>\n",
       "      <th>Bachelor's</th>\n",
       "      <th>High School</th>\n",
       "      <th>Master's</th>\n",
       "      <th>PhD</th>\n",
       "    </tr>\n",
       "  </thead>\n",
       "  <tbody>\n",
       "    <tr>\n",
       "      <th>4864</th>\n",
       "      <td>0.365854</td>\n",
       "      <td>0.323529</td>\n",
       "      <td>0.538986</td>\n",
       "      <td>0</td>\n",
       "      <td>1</td>\n",
       "      <td>0</td>\n",
       "      <td>0</td>\n",
       "      <td>0</td>\n",
       "      <td>0</td>\n",
       "      <td>1</td>\n",
       "    </tr>\n",
       "    <tr>\n",
       "      <th>5509</th>\n",
       "      <td>0.268293</td>\n",
       "      <td>0.205882</td>\n",
       "      <td>0.478853</td>\n",
       "      <td>0</td>\n",
       "      <td>1</td>\n",
       "      <td>0</td>\n",
       "      <td>1</td>\n",
       "      <td>0</td>\n",
       "      <td>0</td>\n",
       "      <td>0</td>\n",
       "    </tr>\n",
       "    <tr>\n",
       "      <th>3363</th>\n",
       "      <td>0.219512</td>\n",
       "      <td>0.147059</td>\n",
       "      <td>0.358589</td>\n",
       "      <td>1</td>\n",
       "      <td>0</td>\n",
       "      <td>0</td>\n",
       "      <td>1</td>\n",
       "      <td>0</td>\n",
       "      <td>0</td>\n",
       "      <td>0</td>\n",
       "    </tr>\n",
       "    <tr>\n",
       "      <th>690</th>\n",
       "      <td>0.195122</td>\n",
       "      <td>0.176471</td>\n",
       "      <td>0.679294</td>\n",
       "      <td>0</td>\n",
       "      <td>1</td>\n",
       "      <td>0</td>\n",
       "      <td>1</td>\n",
       "      <td>0</td>\n",
       "      <td>0</td>\n",
       "      <td>0</td>\n",
       "    </tr>\n",
       "    <tr>\n",
       "      <th>3419</th>\n",
       "      <td>0.121951</td>\n",
       "      <td>0.058824</td>\n",
       "      <td>0.138104</td>\n",
       "      <td>1</td>\n",
       "      <td>0</td>\n",
       "      <td>0</td>\n",
       "      <td>0</td>\n",
       "      <td>1</td>\n",
       "      <td>0</td>\n",
       "      <td>0</td>\n",
       "    </tr>\n",
       "  </tbody>\n",
       "</table>\n",
       "</div>"
      ],
      "text/plain": [
       "           Age  Years of Experience    Salary  Female  Male  Other  \\\n",
       "4864  0.365854             0.323529  0.538986       0     1      0   \n",
       "5509  0.268293             0.205882  0.478853       0     1      0   \n",
       "3363  0.219512             0.147059  0.358589       1     0      0   \n",
       "690   0.195122             0.176471  0.679294       0     1      0   \n",
       "3419  0.121951             0.058824  0.138104       1     0      0   \n",
       "\n",
       "      Bachelor's  High School  Master's  PhD  \n",
       "4864           0            0         0    1  \n",
       "5509           1            0         0    0  \n",
       "3363           1            0         0    0  \n",
       "690            1            0         0    0  \n",
       "3419           0            1         0    0  "
      ]
     },
     "execution_count": 357,
     "metadata": {},
     "output_type": "execute_result"
    }
   ],
   "source": [
    "df_train.head()"
   ]
  },
  {
   "cell_type": "code",
   "execution_count": 358,
   "id": "dde1e51a-14a1-435d-ada1-a8522fc5e78f",
   "metadata": {},
   "outputs": [
    {
     "data": {
      "text/html": [
       "<div>\n",
       "<style scoped>\n",
       "    .dataframe tbody tr th:only-of-type {\n",
       "        vertical-align: middle;\n",
       "    }\n",
       "\n",
       "    .dataframe tbody tr th {\n",
       "        vertical-align: top;\n",
       "    }\n",
       "\n",
       "    .dataframe thead th {\n",
       "        text-align: right;\n",
       "    }\n",
       "</style>\n",
       "<table border=\"1\" class=\"dataframe\">\n",
       "  <thead>\n",
       "    <tr style=\"text-align: right;\">\n",
       "      <th></th>\n",
       "      <th>Age</th>\n",
       "      <th>Years of Experience</th>\n",
       "      <th>Salary</th>\n",
       "      <th>Female</th>\n",
       "      <th>Male</th>\n",
       "      <th>Other</th>\n",
       "      <th>Bachelor's</th>\n",
       "      <th>High School</th>\n",
       "      <th>Master's</th>\n",
       "      <th>PhD</th>\n",
       "    </tr>\n",
       "  </thead>\n",
       "  <tbody>\n",
       "    <tr>\n",
       "      <th>count</th>\n",
       "      <td>4689.000000</td>\n",
       "      <td>4689.000000</td>\n",
       "      <td>4689.000000</td>\n",
       "      <td>4689.000000</td>\n",
       "      <td>4689.000000</td>\n",
       "      <td>4689.000000</td>\n",
       "      <td>4689.000000</td>\n",
       "      <td>4689.000000</td>\n",
       "      <td>4689.000000</td>\n",
       "      <td>4689.000000</td>\n",
       "    </tr>\n",
       "    <tr>\n",
       "      <th>mean</th>\n",
       "      <td>0.306150</td>\n",
       "      <td>0.236724</td>\n",
       "      <td>0.459820</td>\n",
       "      <td>0.455108</td>\n",
       "      <td>0.542973</td>\n",
       "      <td>0.001919</td>\n",
       "      <td>0.457027</td>\n",
       "      <td>0.065686</td>\n",
       "      <td>0.275538</td>\n",
       "      <td>0.201749</td>\n",
       "    </tr>\n",
       "    <tr>\n",
       "      <th>std</th>\n",
       "      <td>0.184325</td>\n",
       "      <td>0.176775</td>\n",
       "      <td>0.211293</td>\n",
       "      <td>0.498034</td>\n",
       "      <td>0.498203</td>\n",
       "      <td>0.043773</td>\n",
       "      <td>0.498203</td>\n",
       "      <td>0.247758</td>\n",
       "      <td>0.446833</td>\n",
       "      <td>0.401348</td>\n",
       "    </tr>\n",
       "    <tr>\n",
       "      <th>min</th>\n",
       "      <td>0.000000</td>\n",
       "      <td>0.000000</td>\n",
       "      <td>0.000000</td>\n",
       "      <td>0.000000</td>\n",
       "      <td>0.000000</td>\n",
       "      <td>0.000000</td>\n",
       "      <td>0.000000</td>\n",
       "      <td>0.000000</td>\n",
       "      <td>0.000000</td>\n",
       "      <td>0.000000</td>\n",
       "    </tr>\n",
       "    <tr>\n",
       "      <th>25%</th>\n",
       "      <td>0.170732</td>\n",
       "      <td>0.088235</td>\n",
       "      <td>0.278413</td>\n",
       "      <td>0.000000</td>\n",
       "      <td>0.000000</td>\n",
       "      <td>0.000000</td>\n",
       "      <td>0.000000</td>\n",
       "      <td>0.000000</td>\n",
       "      <td>0.000000</td>\n",
       "      <td>0.000000</td>\n",
       "    </tr>\n",
       "    <tr>\n",
       "      <th>50%</th>\n",
       "      <td>0.268293</td>\n",
       "      <td>0.205882</td>\n",
       "      <td>0.458809</td>\n",
       "      <td>0.000000</td>\n",
       "      <td>1.000000</td>\n",
       "      <td>0.000000</td>\n",
       "      <td>0.000000</td>\n",
       "      <td>0.000000</td>\n",
       "      <td>0.000000</td>\n",
       "      <td>0.000000</td>\n",
       "    </tr>\n",
       "    <tr>\n",
       "      <th>75%</th>\n",
       "      <td>0.414634</td>\n",
       "      <td>0.352941</td>\n",
       "      <td>0.639206</td>\n",
       "      <td>1.000000</td>\n",
       "      <td>1.000000</td>\n",
       "      <td>0.000000</td>\n",
       "      <td>1.000000</td>\n",
       "      <td>0.000000</td>\n",
       "      <td>1.000000</td>\n",
       "      <td>0.000000</td>\n",
       "    </tr>\n",
       "    <tr>\n",
       "      <th>max</th>\n",
       "      <td>1.000000</td>\n",
       "      <td>1.000000</td>\n",
       "      <td>1.000000</td>\n",
       "      <td>1.000000</td>\n",
       "      <td>1.000000</td>\n",
       "      <td>1.000000</td>\n",
       "      <td>1.000000</td>\n",
       "      <td>1.000000</td>\n",
       "      <td>1.000000</td>\n",
       "      <td>1.000000</td>\n",
       "    </tr>\n",
       "  </tbody>\n",
       "</table>\n",
       "</div>"
      ],
      "text/plain": [
       "               Age  Years of Experience       Salary       Female  \\\n",
       "count  4689.000000          4689.000000  4689.000000  4689.000000   \n",
       "mean      0.306150             0.236724     0.459820     0.455108   \n",
       "std       0.184325             0.176775     0.211293     0.498034   \n",
       "min       0.000000             0.000000     0.000000     0.000000   \n",
       "25%       0.170732             0.088235     0.278413     0.000000   \n",
       "50%       0.268293             0.205882     0.458809     0.000000   \n",
       "75%       0.414634             0.352941     0.639206     1.000000   \n",
       "max       1.000000             1.000000     1.000000     1.000000   \n",
       "\n",
       "              Male        Other   Bachelor's  High School     Master's  \\\n",
       "count  4689.000000  4689.000000  4689.000000  4689.000000  4689.000000   \n",
       "mean      0.542973     0.001919     0.457027     0.065686     0.275538   \n",
       "std       0.498203     0.043773     0.498203     0.247758     0.446833   \n",
       "min       0.000000     0.000000     0.000000     0.000000     0.000000   \n",
       "25%       0.000000     0.000000     0.000000     0.000000     0.000000   \n",
       "50%       1.000000     0.000000     0.000000     0.000000     0.000000   \n",
       "75%       1.000000     0.000000     1.000000     0.000000     1.000000   \n",
       "max       1.000000     1.000000     1.000000     1.000000     1.000000   \n",
       "\n",
       "               PhD  \n",
       "count  4689.000000  \n",
       "mean      0.201749  \n",
       "std       0.401348  \n",
       "min       0.000000  \n",
       "25%       0.000000  \n",
       "50%       0.000000  \n",
       "75%       0.000000  \n",
       "max       1.000000  "
      ]
     },
     "execution_count": 358,
     "metadata": {},
     "output_type": "execute_result"
    }
   ],
   "source": [
    "df_train.describe()"
   ]
  },
  {
   "cell_type": "code",
   "execution_count": 359,
   "id": "acb56741-07fc-43be-96f6-7b91f0d459be",
   "metadata": {},
   "outputs": [
    {
     "data": {
      "image/png": "[encoded data removed]",
      "text/plain": [
       "<Figure size 1600x1000 with 2 Axes>"
      ]
     },
     "metadata": {},
     "output_type": "display_data"
    }
   ],
   "source": [
    "# Let's check the correlation coefficients to see which variables are highly correlated\n",
    "\n",
    "plt.figure(figsize = (16, 10))\n",
    "sns.heatmap(df_train.corr(), annot = True, cmap=\"YlGnBu\")\n",
    "plt.show()"
   ]
  },
  {
   "cell_type": "markdown",
   "id": "e9b96f1b-7b9a-49ec-8955-15d7bb0aa449",
   "metadata": {},
   "source": [
    "As you might have noticed, `Age` and `Years of Experience` seems to the correlated to `Salary` the most. Let's see a pairplot for `Age` vs `Salary` and `Years of Experience` vs `Salary`."
   ]
  },
  {
   "cell_type": "code",
   "execution_count": 360,
   "id": "4a85c0ef-d3e8-48e7-8343-2103c0e82e6e",
   "metadata": {},
   "outputs": [
    {
     "data": {
      "image/png": "[encoded data removed]",
      "text/plain": [
       "<Figure size 600x600 with 1 Axes>"
      ]
     },
     "metadata": {},
     "output_type": "display_data"
    }
   ],
   "source": [
    "plt.figure(figsize=[6,6])\n",
    "plt.scatter(df_train['Age'], df_train['Salary'])\n",
    "plt.show()"
   ]
  },
  {
   "cell_type": "code",
   "execution_count": 361,
   "id": "a6b0603d-7709-4bbb-bf8e-3fccff9b35c7",
   "metadata": {},
   "outputs": [
    {
     "data": {
      "image/png": "[encoded data removed]",
      "text/plain": [
       "<Figure size 600x600 with 1 Axes>"
      ]
     },
     "metadata": {},
     "output_type": "display_data"
    }
   ],
   "source": [
    "plt.figure(figsize=[6,6])\n",
    "plt.scatter(df_train['Years of Experience'], df_train['Salary'])\n",
    "plt.show()"
   ]
  },
  {
   "cell_type": "markdown",
   "id": "6093b401-c179-4801-825a-473befbef325",
   "metadata": {},
   "source": [
    "So, we pick `Age` and `Years of Experience` as predictors and we'll try to fit a regression line to that."
   ]
  },
  {
   "cell_type": "markdown",
   "id": "4d4a2c1f-f2ae-4678-a329-af122175cc64",
   "metadata": {},
   "source": [
    "### Dividing into X and Y sets for the model building"
   ]
  },
  {
   "cell_type": "code",
   "execution_count": 362,
   "id": "8bab8c2c-9701-480c-91ae-80604a2f7cf5",
   "metadata": {},
   "outputs": [],
   "source": [
    "y_train = df_train.pop('Salary')\n",
    "X_train = df_train"
   ]
  },
  {
   "cell_type": "code",
   "execution_count": 363,
   "id": "c9d3367d-8cfe-4da0-bd90-b4952ce55199",
   "metadata": {},
   "outputs": [
    {
     "data": {
      "text/html": [
       "<div>\n",
       "<style scoped>\n",
       "    .dataframe tbody tr th:only-of-type {\n",
       "        vertical-align: middle;\n",
       "    }\n",
       "\n",
       "    .dataframe tbody tr th {\n",
       "        vertical-align: top;\n",
       "    }\n",
       "\n",
       "    .dataframe thead th {\n",
       "        text-align: right;\n",
       "    }\n",
       "</style>\n",
       "<table border=\"1\" class=\"dataframe\">\n",
       "  <thead>\n",
       "    <tr style=\"text-align: right;\">\n",
       "      <th></th>\n",
       "      <th>Age</th>\n",
       "      <th>Years of Experience</th>\n",
       "      <th>Female</th>\n",
       "      <th>Male</th>\n",
       "      <th>Other</th>\n",
       "      <th>Bachelor's</th>\n",
       "      <th>High School</th>\n",
       "      <th>Master's</th>\n",
       "      <th>PhD</th>\n",
       "    </tr>\n",
       "  </thead>\n",
       "  <tbody>\n",
       "    <tr>\n",
       "      <th>4864</th>\n",
       "      <td>0.365854</td>\n",
       "      <td>0.323529</td>\n",
       "      <td>0</td>\n",
       "      <td>1</td>\n",
       "      <td>0</td>\n",
       "      <td>0</td>\n",
       "      <td>0</td>\n",
       "      <td>0</td>\n",
       "      <td>1</td>\n",
       "    </tr>\n",
       "    <tr>\n",
       "      <th>5509</th>\n",
       "      <td>0.268293</td>\n",
       "      <td>0.205882</td>\n",
       "      <td>0</td>\n",
       "      <td>1</td>\n",
       "      <td>0</td>\n",
       "      <td>1</td>\n",
       "      <td>0</td>\n",
       "      <td>0</td>\n",
       "      <td>0</td>\n",
       "    </tr>\n",
       "    <tr>\n",
       "      <th>3363</th>\n",
       "      <td>0.219512</td>\n",
       "      <td>0.147059</td>\n",
       "      <td>1</td>\n",
       "      <td>0</td>\n",
       "      <td>0</td>\n",
       "      <td>1</td>\n",
       "      <td>0</td>\n",
       "      <td>0</td>\n",
       "      <td>0</td>\n",
       "    </tr>\n",
       "    <tr>\n",
       "      <th>690</th>\n",
       "      <td>0.195122</td>\n",
       "      <td>0.176471</td>\n",
       "      <td>0</td>\n",
       "      <td>1</td>\n",
       "      <td>0</td>\n",
       "      <td>1</td>\n",
       "      <td>0</td>\n",
       "      <td>0</td>\n",
       "      <td>0</td>\n",
       "    </tr>\n",
       "    <tr>\n",
       "      <th>3419</th>\n",
       "      <td>0.121951</td>\n",
       "      <td>0.058824</td>\n",
       "      <td>1</td>\n",
       "      <td>0</td>\n",
       "      <td>0</td>\n",
       "      <td>0</td>\n",
       "      <td>1</td>\n",
       "      <td>0</td>\n",
       "      <td>0</td>\n",
       "    </tr>\n",
       "  </tbody>\n",
       "</table>\n",
       "</div>"
      ],
      "text/plain": [
       "           Age  Years of Experience  Female  Male  Other  Bachelor's  \\\n",
       "4864  0.365854             0.323529       0     1      0           0   \n",
       "5509  0.268293             0.205882       0     1      0           1   \n",
       "3363  0.219512             0.147059       1     0      0           1   \n",
       "690   0.195122             0.176471       0     1      0           1   \n",
       "3419  0.121951             0.058824       1     0      0           0   \n",
       "\n",
       "      High School  Master's  PhD  \n",
       "4864            0         0    1  \n",
       "5509            0         0    0  \n",
       "3363            0         0    0  \n",
       "690             0         0    0  \n",
       "3419            1         0    0  "
      ]
     },
     "execution_count": 363,
     "metadata": {},
     "output_type": "execute_result"
    }
   ],
   "source": [
    "X_train.head()"
   ]
  },
  {
   "cell_type": "code",
   "execution_count": 364,
   "id": "8ca6defb-5396-4a8c-b66e-ba8c808896ca",
   "metadata": {},
   "outputs": [
    {
     "data": {
      "text/plain": [
       "4864    0.538986\n",
       "5509    0.478853\n",
       "3363    0.358589\n",
       "690     0.679294\n",
       "3419    0.138104\n",
       "Name: Salary, dtype: float64"
      ]
     },
     "execution_count": 364,
     "metadata": {},
     "output_type": "execute_result"
    }
   ],
   "source": [
    "y_train.head()"
   ]
  },
  {
   "cell_type": "markdown",
   "id": "2cca1aad-31df-4a02-ad45-ced8797c1975",
   "metadata": {},
   "source": [
    "## Step 5: Building a Multiple Regression model"
   ]
  },
  {
   "cell_type": "code",
   "execution_count": 365,
   "id": "4616e2ee-e347-4a7d-b619-67bf85840bd9",
   "metadata": {},
   "outputs": [],
   "source": [
    "import statsmodels.api as sm"
   ]
  },
  {
   "cell_type": "markdown",
   "id": "4581952f-9713-4a3e-a09e-5b3d8dcd1947",
   "metadata": {},
   "source": [
    "#### <span style=\"color: blue;\">Model 1</span>"
   ]
  },
  {
   "cell_type": "code",
   "execution_count": 366,
   "id": "95e9b2ac-da8f-4b29-8f3a-83d4bbe1c4c9",
   "metadata": {},
   "outputs": [],
   "source": [
    "# Add a constant\n",
    "X_train_lm = sm.add_constant(X_train[['Age','Years of Experience']])\n",
    "\n",
    "# Create a first fitted model\n",
    "lr1 = sm.OLS(y_train, X_train_lm).fit()"
   ]
  },
  {
   "cell_type": "code",
   "execution_count": 367,
   "id": "d81c69b8-d7b6-4669-9679-acbb4b001a05",
   "metadata": {},
   "outputs": [
    {
     "data": {
      "text/html": [
       "<table class=\"simpletable\">\n",
       "<caption>OLS Regression Results</caption>\n",
       "<tr>\n",
       "  <th>Dep. Variable:</th>         <td>Salary</td>      <th>  R-squared:         </th> <td>   0.661</td>\n",
       "</tr>\n",
       "<tr>\n",
       "  <th>Model:</th>                   <td>OLS</td>       <th>  Adj. R-squared:    </th> <td>   0.661</td>\n",
       "</tr>\n",
       "<tr>\n",
       "  <th>Method:</th>             <td>Least Squares</td>  <th>  F-statistic:       </th> <td>   4565.</td>\n",
       "</tr>\n",
       "<tr>\n",
       "  <th>Date:</th>             <td>Wed, 19 Mar 2025</td> <th>  Prob (F-statistic):</th>  <td>  0.00</td> \n",
       "</tr>\n",
       "<tr>\n",
       "  <th>Time:</th>                 <td>23:19:12</td>     <th>  Log-Likelihood:    </th> <td>  3171.0</td>\n",
       "</tr>\n",
       "<tr>\n",
       "  <th>No. Observations:</th>      <td>  4689</td>      <th>  AIC:               </th> <td>  -6336.</td>\n",
       "</tr>\n",
       "<tr>\n",
       "  <th>Df Residuals:</th>          <td>  4686</td>      <th>  BIC:               </th> <td>  -6317.</td>\n",
       "</tr>\n",
       "<tr>\n",
       "  <th>Df Model:</th>              <td>     2</td>      <th>                     </th>     <td> </td>   \n",
       "</tr>\n",
       "<tr>\n",
       "  <th>Covariance Type:</th>      <td>nonrobust</td>    <th>                     </th>     <td> </td>   \n",
       "</tr>\n",
       "</table>\n",
       "<table class=\"simpletable\">\n",
       "<tr>\n",
       "           <td></td>              <th>coef</th>     <th>std err</th>      <th>t</th>      <th>P>|t|</th>  <th>[0.025</th>    <th>0.975]</th>  \n",
       "</tr>\n",
       "<tr>\n",
       "  <th>const</th>               <td>    0.2561</td> <td>    0.004</td> <td>   69.771</td> <td> 0.000</td> <td>    0.249</td> <td>    0.263</td>\n",
       "</tr>\n",
       "<tr>\n",
       "  <th>Age</th>                 <td>   -0.3310</td> <td>    0.028</td> <td>  -11.664</td> <td> 0.000</td> <td>   -0.387</td> <td>   -0.275</td>\n",
       "</tr>\n",
       "<tr>\n",
       "  <th>Years of Experience</th> <td>    1.2885</td> <td>    0.030</td> <td>   43.544</td> <td> 0.000</td> <td>    1.230</td> <td>    1.346</td>\n",
       "</tr>\n",
       "</table>\n",
       "<table class=\"simpletable\">\n",
       "<tr>\n",
       "  <th>Omnibus:</th>       <td>95.757</td> <th>  Durbin-Watson:     </th> <td>   2.042</td>\n",
       "</tr>\n",
       "<tr>\n",
       "  <th>Prob(Omnibus):</th> <td> 0.000</td> <th>  Jarque-Bera (JB):  </th> <td> 112.363</td>\n",
       "</tr>\n",
       "<tr>\n",
       "  <th>Skew:</th>          <td> 0.296</td> <th>  Prob(JB):          </th> <td>3.99e-25</td>\n",
       "</tr>\n",
       "<tr>\n",
       "  <th>Kurtosis:</th>      <td> 3.473</td> <th>  Cond. No.          </th> <td>    24.2</td>\n",
       "</tr>\n",
       "</table><br/><br/>Notes:<br/>[1] Standard Errors assume that the covariance matrix of the errors is correctly specified."
      ],
      "text/latex": [
       "\\begin{center}\n",
       "\\begin{tabular}{lclc}\n",
       "\\toprule\n",
       "\\textbf{Dep. Variable:}      &      Salary      & \\textbf{  R-squared:         } &     0.661   \\\\\n",
       "\\textbf{Model:}              &       OLS        & \\textbf{  Adj. R-squared:    } &     0.661   \\\\\n",
       "\\textbf{Method:}             &  Least Squares   & \\textbf{  F-statistic:       } &     4565.   \\\\\n",
       "\\textbf{Date:}               & Wed, 19 Mar 2025 & \\textbf{  Prob (F-statistic):} &     0.00    \\\\\n",
       "\\textbf{Time:}               &     23:19:12     & \\textbf{  Log-Likelihood:    } &    3171.0   \\\\\n",
       "\\textbf{No. Observations:}   &        4689      & \\textbf{  AIC:               } &    -6336.   \\\\\n",
       "\\textbf{Df Residuals:}       &        4686      & \\textbf{  BIC:               } &    -6317.   \\\\\n",
       "\\textbf{Df Model:}           &           2      & \\textbf{                     } &             \\\\\n",
       "\\textbf{Covariance Type:}    &    nonrobust     & \\textbf{                     } &             \\\\\n",
       "\\bottomrule\n",
       "\\end{tabular}\n",
       "\\begin{tabular}{lcccccc}\n",
       "                             & \\textbf{coef} & \\textbf{std err} & \\textbf{t} & \\textbf{P$> |$t$|$} & \\textbf{[0.025} & \\textbf{0.975]}  \\\\\n",
       "\\midrule\n",
       "\\textbf{const}               &       0.2561  &        0.004     &    69.771  &         0.000        &        0.249    &        0.263     \\\\\n",
       "\\textbf{Age}                 &      -0.3310  &        0.028     &   -11.664  &         0.000        &       -0.387    &       -0.275     \\\\\n",
       "\\textbf{Years of Experience} &       1.2885  &        0.030     &    43.544  &         0.000        &        1.230    &        1.346     \\\\\n",
       "\\bottomrule\n",
       "\\end{tabular}\n",
       "\\begin{tabular}{lclc}\n",
       "\\textbf{Omnibus:}       & 95.757 & \\textbf{  Durbin-Watson:     } &    2.042  \\\\\n",
       "\\textbf{Prob(Omnibus):} &  0.000 & \\textbf{  Jarque-Bera (JB):  } &  112.363  \\\\\n",
       "\\textbf{Skew:}          &  0.296 & \\textbf{  Prob(JB):          } & 3.99e-25  \\\\\n",
       "\\textbf{Kurtosis:}      &  3.473 & \\textbf{  Cond. No.          } &     24.2  \\\\\n",
       "\\bottomrule\n",
       "\\end{tabular}\n",
       "%\\caption{OLS Regression Results}\n",
       "\\end{center}\n",
       "\n",
       "Notes: \\newline\n",
       " [1] Standard Errors assume that the covariance matrix of the errors is correctly specified."
      ],
      "text/plain": [
       "<class 'statsmodels.iolib.summary.Summary'>\n",
       "\"\"\"\n",
       "                            OLS Regression Results                            \n",
       "==============================================================================\n",
       "Dep. Variable:                 Salary   R-squared:                       0.661\n",
       "Model:                            OLS   Adj. R-squared:                  0.661\n",
       "Method:                 Least Squares   F-statistic:                     4565.\n",
       "Date:                Wed, 19 Mar 2025   Prob (F-statistic):               0.00\n",
       "Time:                        23:19:12   Log-Likelihood:                 3171.0\n",
       "No. Observations:                4689   AIC:                            -6336.\n",
       "Df Residuals:                    4686   BIC:                            -6317.\n",
       "Df Model:                           2                                         \n",
       "Covariance Type:            nonrobust                                         \n",
       "=======================================================================================\n",
       "                          coef    std err          t      P>|t|      [0.025      0.975]\n",
       "---------------------------------------------------------------------------------------\n",
       "const                   0.2561      0.004     69.771      0.000       0.249       0.263\n",
       "Age                    -0.3310      0.028    -11.664      0.000      -0.387      -0.275\n",
       "Years of Experience     1.2885      0.030     43.544      0.000       1.230       1.346\n",
       "==============================================================================\n",
       "Omnibus:                       95.757   Durbin-Watson:                   2.042\n",
       "Prob(Omnibus):                  0.000   Jarque-Bera (JB):              112.363\n",
       "Skew:                           0.296   Prob(JB):                     3.99e-25\n",
       "Kurtosis:                       3.473   Cond. No.                         24.2\n",
       "==============================================================================\n",
       "\n",
       "Notes:\n",
       "[1] Standard Errors assume that the covariance matrix of the errors is correctly specified.\n",
       "\"\"\""
      ]
     },
     "execution_count": 367,
     "metadata": {},
     "output_type": "execute_result"
    }
   ],
   "source": [
    "lr1.summary()"
   ]
  },
  {
   "cell_type": "markdown",
   "id": "67abebdb-16e7-4fba-8b79-acf5a0ba6cb6",
   "metadata": {},
   "source": [
    "<span style=\"color: blue;\">So, from above **Model 1** summary we can see that 66.1% variance is explained by `Age` and `Years of Experience`. Both the variables having p-value as 0.00 so both are significant to Salary. Only we can see that coeficient for Age is negative.</span>"
   ]
  },
  {
   "cell_type": "markdown",
   "id": "445df24e-7c96-4119-ae46-c3e206135e87",
   "metadata": {},
   "source": [
    "<span style=\"color: blue;\">Now we will add another variable `PhD` which has correlation of 0.48 with Salary and lets see how model reacts.</span>"
   ]
  },
  {
   "cell_type": "markdown",
   "id": "b61cabc8-8268-4fdf-ba7c-43c9458e8713",
   "metadata": {},
   "source": [
    "#### <span style=\"color: blue;\">Model 2</span>"
   ]
  },
  {
   "cell_type": "code",
   "execution_count": 368,
   "id": "100a8f73-1361-4287-8267-0adff80233c1",
   "metadata": {},
   "outputs": [],
   "source": [
    "# Add a constant\n",
    "X_train_lm = sm.add_constant(X_train[['Age','Years of Experience','PhD']])\n",
    "\n",
    "# Create a first fitted model\n",
    "lr2 = sm.OLS(y_train, X_train_lm).fit()"
   ]
  },
  {
   "cell_type": "code",
   "execution_count": 369,
   "id": "7b09396d-0a70-458c-8a96-75cac2f0fa59",
   "metadata": {},
   "outputs": [
    {
     "data": {
      "text/html": [
       "<table class=\"simpletable\">\n",
       "<caption>OLS Regression Results</caption>\n",
       "<tr>\n",
       "  <th>Dep. Variable:</th>         <td>Salary</td>      <th>  R-squared:         </th> <td>   0.675</td>\n",
       "</tr>\n",
       "<tr>\n",
       "  <th>Model:</th>                   <td>OLS</td>       <th>  Adj. R-squared:    </th> <td>   0.674</td>\n",
       "</tr>\n",
       "<tr>\n",
       "  <th>Method:</th>             <td>Least Squares</td>  <th>  F-statistic:       </th> <td>   3237.</td>\n",
       "</tr>\n",
       "<tr>\n",
       "  <th>Date:</th>             <td>Wed, 19 Mar 2025</td> <th>  Prob (F-statistic):</th>  <td>  0.00</td> \n",
       "</tr>\n",
       "<tr>\n",
       "  <th>Time:</th>                 <td>23:19:12</td>     <th>  Log-Likelihood:    </th> <td>  3268.2</td>\n",
       "</tr>\n",
       "<tr>\n",
       "  <th>No. Observations:</th>      <td>  4689</td>      <th>  AIC:               </th> <td>  -6528.</td>\n",
       "</tr>\n",
       "<tr>\n",
       "  <th>Df Residuals:</th>          <td>  4685</td>      <th>  BIC:               </th> <td>  -6503.</td>\n",
       "</tr>\n",
       "<tr>\n",
       "  <th>Df Model:</th>              <td>     3</td>      <th>                     </th>     <td> </td>   \n",
       "</tr>\n",
       "<tr>\n",
       "  <th>Covariance Type:</th>      <td>nonrobust</td>    <th>                     </th>     <td> </td>   \n",
       "</tr>\n",
       "</table>\n",
       "<table class=\"simpletable\">\n",
       "<tr>\n",
       "           <td></td>              <th>coef</th>     <th>std err</th>      <th>t</th>      <th>P>|t|</th>  <th>[0.025</th>    <th>0.975]</th>  \n",
       "</tr>\n",
       "<tr>\n",
       "  <th>const</th>               <td>    0.2644</td> <td>    0.004</td> <td>   72.559</td> <td> 0.000</td> <td>    0.257</td> <td>    0.272</td>\n",
       "</tr>\n",
       "<tr>\n",
       "  <th>Age</th>                 <td>   -0.3870</td> <td>    0.028</td> <td>  -13.780</td> <td> 0.000</td> <td>   -0.442</td> <td>   -0.332</td>\n",
       "</tr>\n",
       "<tr>\n",
       "  <th>Years of Experience</th> <td>    1.2655</td> <td>    0.029</td> <td>   43.588</td> <td> 0.000</td> <td>    1.209</td> <td>    1.322</td>\n",
       "</tr>\n",
       "<tr>\n",
       "  <th>PhD</th>                 <td>    0.0712</td> <td>    0.005</td> <td>   14.078</td> <td> 0.000</td> <td>    0.061</td> <td>    0.081</td>\n",
       "</tr>\n",
       "</table>\n",
       "<table class=\"simpletable\">\n",
       "<tr>\n",
       "  <th>Omnibus:</th>       <td>127.656</td> <th>  Durbin-Watson:     </th> <td>   2.045</td>\n",
       "</tr>\n",
       "<tr>\n",
       "  <th>Prob(Omnibus):</th> <td> 0.000</td>  <th>  Jarque-Bera (JB):  </th> <td> 151.310</td>\n",
       "</tr>\n",
       "<tr>\n",
       "  <th>Skew:</th>          <td> 0.354</td>  <th>  Prob(JB):          </th> <td>1.39e-33</td>\n",
       "</tr>\n",
       "<tr>\n",
       "  <th>Kurtosis:</th>      <td> 3.522</td>  <th>  Cond. No.          </th> <td>    24.8</td>\n",
       "</tr>\n",
       "</table><br/><br/>Notes:<br/>[1] Standard Errors assume that the covariance matrix of the errors is correctly specified."
      ],
      "text/latex": [
       "\\begin{center}\n",
       "\\begin{tabular}{lclc}\n",
       "\\toprule\n",
       "\\textbf{Dep. Variable:}      &      Salary      & \\textbf{  R-squared:         } &     0.675   \\\\\n",
       "\\textbf{Model:}              &       OLS        & \\textbf{  Adj. R-squared:    } &     0.674   \\\\\n",
       "\\textbf{Method:}             &  Least Squares   & \\textbf{  F-statistic:       } &     3237.   \\\\\n",
       "\\textbf{Date:}               & Wed, 19 Mar 2025 & \\textbf{  Prob (F-statistic):} &     0.00    \\\\\n",
       "\\textbf{Time:}               &     23:19:12     & \\textbf{  Log-Likelihood:    } &    3268.2   \\\\\n",
       "\\textbf{No. Observations:}   &        4689      & \\textbf{  AIC:               } &    -6528.   \\\\\n",
       "\\textbf{Df Residuals:}       &        4685      & \\textbf{  BIC:               } &    -6503.   \\\\\n",
       "\\textbf{Df Model:}           &           3      & \\textbf{                     } &             \\\\\n",
       "\\textbf{Covariance Type:}    &    nonrobust     & \\textbf{                     } &             \\\\\n",
       "\\bottomrule\n",
       "\\end{tabular}\n",
       "\\begin{tabular}{lcccccc}\n",
       "                             & \\textbf{coef} & \\textbf{std err} & \\textbf{t} & \\textbf{P$> |$t$|$} & \\textbf{[0.025} & \\textbf{0.975]}  \\\\\n",
       "\\midrule\n",
       "\\textbf{const}               &       0.2644  &        0.004     &    72.559  &         0.000        &        0.257    &        0.272     \\\\\n",
       "\\textbf{Age}                 &      -0.3870  &        0.028     &   -13.780  &         0.000        &       -0.442    &       -0.332     \\\\\n",
       "\\textbf{Years of Experience} &       1.2655  &        0.029     &    43.588  &         0.000        &        1.209    &        1.322     \\\\\n",
       "\\textbf{PhD}                 &       0.0712  &        0.005     &    14.078  &         0.000        &        0.061    &        0.081     \\\\\n",
       "\\bottomrule\n",
       "\\end{tabular}\n",
       "\\begin{tabular}{lclc}\n",
       "\\textbf{Omnibus:}       & 127.656 & \\textbf{  Durbin-Watson:     } &    2.045  \\\\\n",
       "\\textbf{Prob(Omnibus):} &   0.000 & \\textbf{  Jarque-Bera (JB):  } &  151.310  \\\\\n",
       "\\textbf{Skew:}          &   0.354 & \\textbf{  Prob(JB):          } & 1.39e-33  \\\\\n",
       "\\textbf{Kurtosis:}      &   3.522 & \\textbf{  Cond. No.          } &     24.8  \\\\\n",
       "\\bottomrule\n",
       "\\end{tabular}\n",
       "%\\caption{OLS Regression Results}\n",
       "\\end{center}\n",
       "\n",
       "Notes: \\newline\n",
       " [1] Standard Errors assume that the covariance matrix of the errors is correctly specified."
      ],
      "text/plain": [
       "<class 'statsmodels.iolib.summary.Summary'>\n",
       "\"\"\"\n",
       "                            OLS Regression Results                            \n",
       "==============================================================================\n",
       "Dep. Variable:                 Salary   R-squared:                       0.675\n",
       "Model:                            OLS   Adj. R-squared:                  0.674\n",
       "Method:                 Least Squares   F-statistic:                     3237.\n",
       "Date:                Wed, 19 Mar 2025   Prob (F-statistic):               0.00\n",
       "Time:                        23:19:12   Log-Likelihood:                 3268.2\n",
       "No. Observations:                4689   AIC:                            -6528.\n",
       "Df Residuals:                    4685   BIC:                            -6503.\n",
       "Df Model:                           3                                         \n",
       "Covariance Type:            nonrobust                                         \n",
       "=======================================================================================\n",
       "                          coef    std err          t      P>|t|      [0.025      0.975]\n",
       "---------------------------------------------------------------------------------------\n",
       "const                   0.2644      0.004     72.559      0.000       0.257       0.272\n",
       "Age                    -0.3870      0.028    -13.780      0.000      -0.442      -0.332\n",
       "Years of Experience     1.2655      0.029     43.588      0.000       1.209       1.322\n",
       "PhD                     0.0712      0.005     14.078      0.000       0.061       0.081\n",
       "==============================================================================\n",
       "Omnibus:                      127.656   Durbin-Watson:                   2.045\n",
       "Prob(Omnibus):                  0.000   Jarque-Bera (JB):              151.310\n",
       "Skew:                           0.354   Prob(JB):                     1.39e-33\n",
       "Kurtosis:                       3.522   Cond. No.                         24.8\n",
       "==============================================================================\n",
       "\n",
       "Notes:\n",
       "[1] Standard Errors assume that the covariance matrix of the errors is correctly specified.\n",
       "\"\"\""
      ]
     },
     "execution_count": 369,
     "metadata": {},
     "output_type": "execute_result"
    }
   ],
   "source": [
    "lr2.summary()"
   ]
  },
  {
   "cell_type": "markdown",
   "id": "bf2383c1-cd22-4155-bc27-f46c819700ae",
   "metadata": {},
   "source": [
    "<span style=\"color: blue;\">So, from above **Model 2** we can see that variance has been increased from 66.1% to 67.5% by adding `PhD` variable. Also all the 3 variables are having p-value as 0.00 means all 3 variables are significant to Salary. </span>"
   ]
  },
  {
   "cell_type": "markdown",
   "id": "0d33178c-af67-4994-b578-59ff263ef039",
   "metadata": {},
   "source": [
    "<span style=\"color: blue;\">Instead of adding one by one variable and creating model we will create next model with all the variables and the drop the insignificant variables.</span>"
   ]
  },
  {
   "cell_type": "markdown",
   "id": "e9dd8815-5594-4dfb-b98e-d3020f631a80",
   "metadata": {},
   "source": [
    "### Adding all the variables to the model"
   ]
  },
  {
   "cell_type": "markdown",
   "id": "97fd7566-23b0-45b5-a069-96d2bf06f7cc",
   "metadata": {},
   "source": [
    "#### <span style=\"color: blue;\">Model 3</span>"
   ]
  },
  {
   "cell_type": "code",
   "execution_count": 370,
   "id": "34b4b72d-ceca-45b8-b609-6c469fb70335",
   "metadata": {},
   "outputs": [],
   "source": [
    "# Add a constant\n",
    "X_train_lm = sm.add_constant(X_train)\n",
    "\n",
    "# Create a first fitted model\n",
    "lr3 = sm.OLS(y_train, X_train_lm).fit()"
   ]
  },
  {
   "cell_type": "code",
   "execution_count": 371,
   "id": "8fd063c8-1314-4be8-8ce8-85216983128f",
   "metadata": {},
   "outputs": [
    {
     "data": {
      "text/html": [
       "<table class=\"simpletable\">\n",
       "<caption>OLS Regression Results</caption>\n",
       "<tr>\n",
       "  <th>Dep. Variable:</th>         <td>Salary</td>      <th>  R-squared:         </th> <td>   0.716</td>\n",
       "</tr>\n",
       "<tr>\n",
       "  <th>Model:</th>                   <td>OLS</td>       <th>  Adj. R-squared:    </th> <td>   0.716</td>\n",
       "</tr>\n",
       "<tr>\n",
       "  <th>Method:</th>             <td>Least Squares</td>  <th>  F-statistic:       </th> <td>   1687.</td>\n",
       "</tr>\n",
       "<tr>\n",
       "  <th>Date:</th>             <td>Wed, 19 Mar 2025</td> <th>  Prob (F-statistic):</th>  <td>  0.00</td> \n",
       "</tr>\n",
       "<tr>\n",
       "  <th>Time:</th>                 <td>23:19:13</td>     <th>  Log-Likelihood:    </th> <td>  3588.5</td>\n",
       "</tr>\n",
       "<tr>\n",
       "  <th>No. Observations:</th>      <td>  4689</td>      <th>  AIC:               </th> <td>  -7161.</td>\n",
       "</tr>\n",
       "<tr>\n",
       "  <th>Df Residuals:</th>          <td>  4681</td>      <th>  BIC:               </th> <td>  -7109.</td>\n",
       "</tr>\n",
       "<tr>\n",
       "  <th>Df Model:</th>              <td>     7</td>      <th>                     </th>     <td> </td>   \n",
       "</tr>\n",
       "<tr>\n",
       "  <th>Covariance Type:</th>      <td>nonrobust</td>    <th>                     </th>     <td> </td>   \n",
       "</tr>\n",
       "</table>\n",
       "<table class=\"simpletable\">\n",
       "<tr>\n",
       "           <td></td>              <th>coef</th>     <th>std err</th>      <th>t</th>      <th>P>|t|</th>  <th>[0.025</th>    <th>0.975]</th>  \n",
       "</tr>\n",
       "<tr>\n",
       "  <th>const</th>               <td>    0.1741</td> <td>    0.008</td> <td>   20.775</td> <td> 0.000</td> <td>    0.158</td> <td>    0.191</td>\n",
       "</tr>\n",
       "<tr>\n",
       "  <th>Age</th>                 <td>   -0.3735</td> <td>    0.026</td> <td>  -14.154</td> <td> 0.000</td> <td>   -0.425</td> <td>   -0.322</td>\n",
       "</tr>\n",
       "<tr>\n",
       "  <th>Years of Experience</th> <td>    1.1392</td> <td>    0.028</td> <td>   40.914</td> <td> 0.000</td> <td>    1.085</td> <td>    1.194</td>\n",
       "</tr>\n",
       "<tr>\n",
       "  <th>Female</th>              <td>    0.0496</td> <td>    0.010</td> <td>    4.833</td> <td> 0.000</td> <td>    0.029</td> <td>    0.070</td>\n",
       "</tr>\n",
       "<tr>\n",
       "  <th>Male</th>                <td>    0.0761</td> <td>    0.010</td> <td>    7.400</td> <td> 0.000</td> <td>    0.056</td> <td>    0.096</td>\n",
       "</tr>\n",
       "<tr>\n",
       "  <th>Other</th>               <td>    0.0484</td> <td>    0.028</td> <td>    1.715</td> <td> 0.086</td> <td>   -0.007</td> <td>    0.104</td>\n",
       "</tr>\n",
       "<tr>\n",
       "  <th>Bachelor's</th>          <td>    0.0421</td> <td>    0.003</td> <td>   12.354</td> <td> 0.000</td> <td>    0.035</td> <td>    0.049</td>\n",
       "</tr>\n",
       "<tr>\n",
       "  <th>High School</th>         <td>   -0.1007</td> <td>    0.006</td> <td>  -18.132</td> <td> 0.000</td> <td>   -0.112</td> <td>   -0.090</td>\n",
       "</tr>\n",
       "<tr>\n",
       "  <th>Master's</th>            <td>    0.0924</td> <td>    0.004</td> <td>   23.413</td> <td> 0.000</td> <td>    0.085</td> <td>    0.100</td>\n",
       "</tr>\n",
       "<tr>\n",
       "  <th>PhD</th>                 <td>    0.1403</td> <td>    0.005</td> <td>   28.758</td> <td> 0.000</td> <td>    0.131</td> <td>    0.150</td>\n",
       "</tr>\n",
       "</table>\n",
       "<table class=\"simpletable\">\n",
       "<tr>\n",
       "  <th>Omnibus:</th>       <td>223.084</td> <th>  Durbin-Watson:     </th> <td>   2.034</td>\n",
       "</tr>\n",
       "<tr>\n",
       "  <th>Prob(Omnibus):</th> <td> 0.000</td>  <th>  Jarque-Bera (JB):  </th> <td> 259.892</td>\n",
       "</tr>\n",
       "<tr>\n",
       "  <th>Skew:</th>          <td> 0.532</td>  <th>  Prob(JB):          </th> <td>3.67e-57</td>\n",
       "</tr>\n",
       "<tr>\n",
       "  <th>Kurtosis:</th>      <td> 3.446</td>  <th>  Cond. No.          </th> <td>1.61e+16</td>\n",
       "</tr>\n",
       "</table><br/><br/>Notes:<br/>[1] Standard Errors assume that the covariance matrix of the errors is correctly specified.<br/>[2] The smallest eigenvalue is 3.59e-29. This might indicate that there are<br/>strong multicollinearity problems or that the design matrix is singular."
      ],
      "text/latex": [
       "\\begin{center}\n",
       "\\begin{tabular}{lclc}\n",
       "\\toprule\n",
       "\\textbf{Dep. Variable:}      &      Salary      & \\textbf{  R-squared:         } &     0.716   \\\\\n",
       "\\textbf{Model:}              &       OLS        & \\textbf{  Adj. R-squared:    } &     0.716   \\\\\n",
       "\\textbf{Method:}             &  Least Squares   & \\textbf{  F-statistic:       } &     1687.   \\\\\n",
       "\\textbf{Date:}               & Wed, 19 Mar 2025 & \\textbf{  Prob (F-statistic):} &     0.00    \\\\\n",
       "\\textbf{Time:}               &     23:19:13     & \\textbf{  Log-Likelihood:    } &    3588.5   \\\\\n",
       "\\textbf{No. Observations:}   &        4689      & \\textbf{  AIC:               } &    -7161.   \\\\\n",
       "\\textbf{Df Residuals:}       &        4681      & \\textbf{  BIC:               } &    -7109.   \\\\\n",
       "\\textbf{Df Model:}           &           7      & \\textbf{                     } &             \\\\\n",
       "\\textbf{Covariance Type:}    &    nonrobust     & \\textbf{                     } &             \\\\\n",
       "\\bottomrule\n",
       "\\end{tabular}\n",
       "\\begin{tabular}{lcccccc}\n",
       "                             & \\textbf{coef} & \\textbf{std err} & \\textbf{t} & \\textbf{P$> |$t$|$} & \\textbf{[0.025} & \\textbf{0.975]}  \\\\\n",
       "\\midrule\n",
       "\\textbf{const}               &       0.1741  &        0.008     &    20.775  &         0.000        &        0.158    &        0.191     \\\\\n",
       "\\textbf{Age}                 &      -0.3735  &        0.026     &   -14.154  &         0.000        &       -0.425    &       -0.322     \\\\\n",
       "\\textbf{Years of Experience} &       1.1392  &        0.028     &    40.914  &         0.000        &        1.085    &        1.194     \\\\\n",
       "\\textbf{Female}              &       0.0496  &        0.010     &     4.833  &         0.000        &        0.029    &        0.070     \\\\\n",
       "\\textbf{Male}                &       0.0761  &        0.010     &     7.400  &         0.000        &        0.056    &        0.096     \\\\\n",
       "\\textbf{Other}               &       0.0484  &        0.028     &     1.715  &         0.086        &       -0.007    &        0.104     \\\\\n",
       "\\textbf{Bachelor's}          &       0.0421  &        0.003     &    12.354  &         0.000        &        0.035    &        0.049     \\\\\n",
       "\\textbf{High School}         &      -0.1007  &        0.006     &   -18.132  &         0.000        &       -0.112    &       -0.090     \\\\\n",
       "\\textbf{Master's}            &       0.0924  &        0.004     &    23.413  &         0.000        &        0.085    &        0.100     \\\\\n",
       "\\textbf{PhD}                 &       0.1403  &        0.005     &    28.758  &         0.000        &        0.131    &        0.150     \\\\\n",
       "\\bottomrule\n",
       "\\end{tabular}\n",
       "\\begin{tabular}{lclc}\n",
       "\\textbf{Omnibus:}       & 223.084 & \\textbf{  Durbin-Watson:     } &    2.034  \\\\\n",
       "\\textbf{Prob(Omnibus):} &   0.000 & \\textbf{  Jarque-Bera (JB):  } &  259.892  \\\\\n",
       "\\textbf{Skew:}          &   0.532 & \\textbf{  Prob(JB):          } & 3.67e-57  \\\\\n",
       "\\textbf{Kurtosis:}      &   3.446 & \\textbf{  Cond. No.          } & 1.61e+16  \\\\\n",
       "\\bottomrule\n",
       "\\end{tabular}\n",
       "%\\caption{OLS Regression Results}\n",
       "\\end{center}\n",
       "\n",
       "Notes: \\newline\n",
       " [1] Standard Errors assume that the covariance matrix of the errors is correctly specified. \\newline\n",
       " [2] The smallest eigenvalue is 3.59e-29. This might indicate that there are \\newline\n",
       " strong multicollinearity problems or that the design matrix is singular."
      ],
      "text/plain": [
       "<class 'statsmodels.iolib.summary.Summary'>\n",
       "\"\"\"\n",
       "                            OLS Regression Results                            \n",
       "==============================================================================\n",
       "Dep. Variable:                 Salary   R-squared:                       0.716\n",
       "Model:                            OLS   Adj. R-squared:                  0.716\n",
       "Method:                 Least Squares   F-statistic:                     1687.\n",
       "Date:                Wed, 19 Mar 2025   Prob (F-statistic):               0.00\n",
       "Time:                        23:19:13   Log-Likelihood:                 3588.5\n",
       "No. Observations:                4689   AIC:                            -7161.\n",
       "Df Residuals:                    4681   BIC:                            -7109.\n",
       "Df Model:                           7                                         \n",
       "Covariance Type:            nonrobust                                         \n",
       "=======================================================================================\n",
       "                          coef    std err          t      P>|t|      [0.025      0.975]\n",
       "---------------------------------------------------------------------------------------\n",
       "const                   0.1741      0.008     20.775      0.000       0.158       0.191\n",
       "Age                    -0.3735      0.026    -14.154      0.000      -0.425      -0.322\n",
       "Years of Experience     1.1392      0.028     40.914      0.000       1.085       1.194\n",
       "Female                  0.0496      0.010      4.833      0.000       0.029       0.070\n",
       "Male                    0.0761      0.010      7.400      0.000       0.056       0.096\n",
       "Other                   0.0484      0.028      1.715      0.086      -0.007       0.104\n",
       "Bachelor's              0.0421      0.003     12.354      0.000       0.035       0.049\n",
       "High School            -0.1007      0.006    -18.132      0.000      -0.112      -0.090\n",
       "Master's                0.0924      0.004     23.413      0.000       0.085       0.100\n",
       "PhD                     0.1403      0.005     28.758      0.000       0.131       0.150\n",
       "==============================================================================\n",
       "Omnibus:                      223.084   Durbin-Watson:                   2.034\n",
       "Prob(Omnibus):                  0.000   Jarque-Bera (JB):              259.892\n",
       "Skew:                           0.532   Prob(JB):                     3.67e-57\n",
       "Kurtosis:                       3.446   Cond. No.                     1.61e+16\n",
       "==============================================================================\n",
       "\n",
       "Notes:\n",
       "[1] Standard Errors assume that the covariance matrix of the errors is correctly specified.\n",
       "[2] The smallest eigenvalue is 3.59e-29. This might indicate that there are\n",
       "strong multicollinearity problems or that the design matrix is singular.\n",
       "\"\"\""
      ]
     },
     "execution_count": 371,
     "metadata": {},
     "output_type": "execute_result"
    }
   ],
   "source": [
    "lr3.summary()"
   ]
  },
  {
   "cell_type": "markdown",
   "id": "85f7efbb-8438-47a0-a7b9-8bfc45fac399",
   "metadata": {},
   "source": [
    "<span style=\"color: blue;\">So, with above **Model 3** we can see that 71.6% variance is explained by all the variables. But if we see p-values all the variables are having p-values 0.00 except Other as Gender. Means this variable is not really significant. Maybe can we drop it? </span>\n",
    "\n",
    "<span style=\"color: blue;\">We could simply drop the variable with the highest, non-significant p value. A better way would be to supplement this with the VIF information. </span>"
   ]
  },
  {
   "cell_type": "markdown",
   "id": "dab170ae-46c9-4b95-9a02-f7245044a266",
   "metadata": {},
   "source": [
    "### Checking VIF\n",
    "\n",
    "Variance Inflation Factor or VIF, gives a basic quantitative idea about how much the feature variables are correlated with each other. It is an extremely important parameter to test our linear model. The formula for calculating `VIF` is:\n",
    "\n",
    "### $ VIF_i = \\frac{1}{1 - {R_i}^2} $"
   ]
  },
  {
   "cell_type": "code",
   "execution_count": 372,
   "id": "ef9b1777-14a6-4b0a-8be4-6b42267157a8",
   "metadata": {},
   "outputs": [],
   "source": [
    "# Check for the VIF values of the feature variables. \n",
    "from statsmodels.stats.outliers_influence import variance_inflation_factor"
   ]
  },
  {
   "cell_type": "code",
   "execution_count": 373,
   "id": "34dfe978-1afd-4938-86d8-2cf6b32d7b08",
   "metadata": {},
   "outputs": [
    {
     "data": {
      "text/html": [
       "<div>\n",
       "<style scoped>\n",
       "    .dataframe tbody tr th:only-of-type {\n",
       "        vertical-align: middle;\n",
       "    }\n",
       "\n",
       "    .dataframe tbody tr th {\n",
       "        vertical-align: top;\n",
       "    }\n",
       "\n",
       "    .dataframe thead th {\n",
       "        text-align: right;\n",
       "    }\n",
       "</style>\n",
       "<table border=\"1\" class=\"dataframe\">\n",
       "  <thead>\n",
       "    <tr style=\"text-align: right;\">\n",
       "      <th></th>\n",
       "      <th>Features</th>\n",
       "      <th>VIF</th>\n",
       "    </tr>\n",
       "  </thead>\n",
       "  <tbody>\n",
       "    <tr>\n",
       "      <th>2</th>\n",
       "      <td>Female</td>\n",
       "      <td>inf</td>\n",
       "    </tr>\n",
       "    <tr>\n",
       "      <th>3</th>\n",
       "      <td>Male</td>\n",
       "      <td>inf</td>\n",
       "    </tr>\n",
       "    <tr>\n",
       "      <th>4</th>\n",
       "      <td>Other</td>\n",
       "      <td>inf</td>\n",
       "    </tr>\n",
       "    <tr>\n",
       "      <th>5</th>\n",
       "      <td>Bachelor's</td>\n",
       "      <td>inf</td>\n",
       "    </tr>\n",
       "    <tr>\n",
       "      <th>6</th>\n",
       "      <td>High School</td>\n",
       "      <td>inf</td>\n",
       "    </tr>\n",
       "    <tr>\n",
       "      <th>7</th>\n",
       "      <td>Master's</td>\n",
       "      <td>inf</td>\n",
       "    </tr>\n",
       "    <tr>\n",
       "      <th>8</th>\n",
       "      <td>PhD</td>\n",
       "      <td>inf</td>\n",
       "    </tr>\n",
       "    <tr>\n",
       "      <th>1</th>\n",
       "      <td>Years of Experience</td>\n",
       "      <td>8.95</td>\n",
       "    </tr>\n",
       "    <tr>\n",
       "      <th>0</th>\n",
       "      <td>Age</td>\n",
       "      <td>8.74</td>\n",
       "    </tr>\n",
       "  </tbody>\n",
       "</table>\n",
       "</div>"
      ],
      "text/plain": [
       "              Features   VIF\n",
       "2               Female   inf\n",
       "3                 Male   inf\n",
       "4                Other   inf\n",
       "5           Bachelor's   inf\n",
       "6          High School   inf\n",
       "7             Master's   inf\n",
       "8                  PhD   inf\n",
       "1  Years of Experience  8.95\n",
       "0                  Age  8.74"
      ]
     },
     "execution_count": 373,
     "metadata": {},
     "output_type": "execute_result"
    }
   ],
   "source": [
    "# Create a dataframe that will contain the names of all the feature variables and their respective VIFs\n",
    "vif = pd.DataFrame()\n",
    "vif['Features'] = X_train.columns\n",
    "vif['VIF'] = [variance_inflation_factor(X_train.values, i) for i in range(X_train.shape[1])]\n",
    "vif['VIF'] = round(vif['VIF'], 2)\n",
    "vif = vif.sort_values(by = \"VIF\", ascending = False)\n",
    "vif"
   ]
  },
  {
   "cell_type": "markdown",
   "id": "7f73c6d6-405e-4e10-8ccf-7b3d79700194",
   "metadata": {},
   "source": [
    "#### <span style=\"color: blue;\">If the **Variance Inflation Factor (VIF)** value is infinity (`inf`), it typically means there is perfect multicollinearity in your dataset. This happens when one or more independent variables are perfectly correlated with each other.</span></span>"
   ]
  },
  {
   "cell_type": "markdown",
   "id": "6d22b70b-ef03-47b8-8cc8-f0c219234e84",
   "metadata": {},
   "source": [
    "#### <span style=\"color: blue;\">Hence we will not use all these variables in our model and we will go ahead with **Model 1** only with `Age` and `Years of Experience` variables.</span>"
   ]
  },
  {
   "cell_type": "markdown",
   "id": "732c058f-e138-4f0e-8cf1-21b4c7367254",
   "metadata": {},
   "source": [
    "## Step 6: Residual Analysis of the train data\n",
    "\n",
    "So, now to check if the error terms are also normally distributed (which is infact, one of the major assumptions of linear regression), let us plot the histogram of the error terms and see what it looks like."
   ]
  },
  {
   "cell_type": "code",
   "execution_count": 374,
   "id": "fe5d9f8e-27a7-4bb1-aa77-53c7c04e102c",
   "metadata": {},
   "outputs": [],
   "source": [
    "# Add a constant\n",
    "X_train_lm = sm.add_constant(X_train[['Age','Years of Experience']])\n",
    "\n",
    "# Create a first fitted model\n",
    "lr1 = sm.OLS(y_train, X_train_lm).fit()"
   ]
  },
  {
   "cell_type": "code",
   "execution_count": 375,
   "id": "f7751ff9-aa7a-4ea3-b59d-ef68ddc31f30",
   "metadata": {},
   "outputs": [],
   "source": [
    "y_train_salary = lr1.predict(X_train_lm)"
   ]
  },
  {
   "cell_type": "code",
   "execution_count": 376,
   "id": "5c40f4da-8e2d-42b8-b03f-988e015c963e",
   "metadata": {},
   "outputs": [
    {
     "data": {
      "text/plain": [
       "Text(0.5, 0, 'Errors')"
      ]
     },
     "execution_count": 376,
     "metadata": {},
     "output_type": "execute_result"
    },
    {
     "data": {
      "image/png": "[encoded data removed]",
      "text/plain": [
       "<Figure size 640x480 with 1 Axes>"
      ]
     },
     "metadata": {},
     "output_type": "display_data"
    }
   ],
   "source": [
    "# Plot the histogram of the error terms\n",
    "fig = plt.figure()\n",
    "sns.distplot((y_train - y_train_salary), bins = 10)\n",
    "fig.suptitle('Error Terms', fontsize = 20)                  # Plot heading \n",
    "plt.xlabel('Errors', fontsize = 18)                         # X-label"
   ]
  },
  {
   "cell_type": "markdown",
   "id": "bd6bc30f-975d-45f6-b84b-c465a99a3854",
   "metadata": {},
   "source": [
    "## Step 7: Making Predictions Using the Final Model\n",
    "\n",
    "Now that we have fitted the model and checked the normality of error terms, it's time to go ahead and make predictions using the final, i.e. first model."
   ]
  },
  {
   "cell_type": "markdown",
   "id": "526ea08b-07c1-4b54-aef1-0214cc2e300a",
   "metadata": {},
   "source": [
    "#### Applying the scaling on the test sets"
   ]
  },
  {
   "cell_type": "code",
   "execution_count": 377,
   "id": "45447284-c1f0-4cfa-9314-6f8f935d9982",
   "metadata": {},
   "outputs": [],
   "source": [
    "num_vars = ['Age', 'Years of Experience', 'Salary']\n",
    "\n",
    "df_test[num_vars] = scaler.transform(df_test[num_vars])"
   ]
  },
  {
   "cell_type": "code",
   "execution_count": 378,
   "id": "b9ab0374-c1b2-4164-b561-79f504427503",
   "metadata": {},
   "outputs": [
    {
     "data": {
      "text/html": [
       "<div>\n",
       "<style scoped>\n",
       "    .dataframe tbody tr th:only-of-type {\n",
       "        vertical-align: middle;\n",
       "    }\n",
       "\n",
       "    .dataframe tbody tr th {\n",
       "        vertical-align: top;\n",
       "    }\n",
       "\n",
       "    .dataframe thead th {\n",
       "        text-align: right;\n",
       "    }\n",
       "</style>\n",
       "<table border=\"1\" class=\"dataframe\">\n",
       "  <thead>\n",
       "    <tr style=\"text-align: right;\">\n",
       "      <th></th>\n",
       "      <th>Age</th>\n",
       "      <th>Years of Experience</th>\n",
       "      <th>Salary</th>\n",
       "      <th>Female</th>\n",
       "      <th>Male</th>\n",
       "      <th>Other</th>\n",
       "      <th>Bachelor's</th>\n",
       "      <th>High School</th>\n",
       "      <th>Master's</th>\n",
       "      <th>PhD</th>\n",
       "    </tr>\n",
       "  </thead>\n",
       "  <tbody>\n",
       "    <tr>\n",
       "      <th>count</th>\n",
       "      <td>2010.000000</td>\n",
       "      <td>2010.000000</td>\n",
       "      <td>2010.000000</td>\n",
       "      <td>2010.000000</td>\n",
       "      <td>2010.000000</td>\n",
       "      <td>2010.000000</td>\n",
       "      <td>2010.000000</td>\n",
       "      <td>2010.000000</td>\n",
       "      <td>2010.000000</td>\n",
       "      <td>2010.000000</td>\n",
       "    </tr>\n",
       "    <tr>\n",
       "      <th>mean</th>\n",
       "      <td>0.311831</td>\n",
       "      <td>0.241272</td>\n",
       "      <td>0.460821</td>\n",
       "      <td>0.437313</td>\n",
       "      <td>0.560199</td>\n",
       "      <td>0.002488</td>\n",
       "      <td>0.437313</td>\n",
       "      <td>0.069652</td>\n",
       "      <td>0.282587</td>\n",
       "      <td>0.210448</td>\n",
       "    </tr>\n",
       "    <tr>\n",
       "      <th>std</th>\n",
       "      <td>0.189010</td>\n",
       "      <td>0.181586</td>\n",
       "      <td>0.212399</td>\n",
       "      <td>0.496178</td>\n",
       "      <td>0.496486</td>\n",
       "      <td>0.049826</td>\n",
       "      <td>0.496178</td>\n",
       "      <td>0.254623</td>\n",
       "      <td>0.450369</td>\n",
       "      <td>0.407728</td>\n",
       "    </tr>\n",
       "    <tr>\n",
       "      <th>min</th>\n",
       "      <td>0.000000</td>\n",
       "      <td>0.000000</td>\n",
       "      <td>-0.000802</td>\n",
       "      <td>0.000000</td>\n",
       "      <td>0.000000</td>\n",
       "      <td>0.000000</td>\n",
       "      <td>0.000000</td>\n",
       "      <td>0.000000</td>\n",
       "      <td>0.000000</td>\n",
       "      <td>0.000000</td>\n",
       "    </tr>\n",
       "    <tr>\n",
       "      <th>25%</th>\n",
       "      <td>0.170732</td>\n",
       "      <td>0.088235</td>\n",
       "      <td>0.278413</td>\n",
       "      <td>0.000000</td>\n",
       "      <td>0.000000</td>\n",
       "      <td>0.000000</td>\n",
       "      <td>0.000000</td>\n",
       "      <td>0.000000</td>\n",
       "      <td>0.000000</td>\n",
       "      <td>0.000000</td>\n",
       "    </tr>\n",
       "    <tr>\n",
       "      <th>50%</th>\n",
       "      <td>0.268293</td>\n",
       "      <td>0.205882</td>\n",
       "      <td>0.475743</td>\n",
       "      <td>0.000000</td>\n",
       "      <td>1.000000</td>\n",
       "      <td>0.000000</td>\n",
       "      <td>0.000000</td>\n",
       "      <td>0.000000</td>\n",
       "      <td>0.000000</td>\n",
       "      <td>0.000000</td>\n",
       "    </tr>\n",
       "    <tr>\n",
       "      <th>75%</th>\n",
       "      <td>0.414634</td>\n",
       "      <td>0.352941</td>\n",
       "      <td>0.639206</td>\n",
       "      <td>1.000000</td>\n",
       "      <td>1.000000</td>\n",
       "      <td>0.000000</td>\n",
       "      <td>1.000000</td>\n",
       "      <td>0.000000</td>\n",
       "      <td>1.000000</td>\n",
       "      <td>0.000000</td>\n",
       "    </tr>\n",
       "    <tr>\n",
       "      <th>max</th>\n",
       "      <td>1.000000</td>\n",
       "      <td>1.000000</td>\n",
       "      <td>1.000000</td>\n",
       "      <td>1.000000</td>\n",
       "      <td>1.000000</td>\n",
       "      <td>1.000000</td>\n",
       "      <td>1.000000</td>\n",
       "      <td>1.000000</td>\n",
       "      <td>1.000000</td>\n",
       "      <td>1.000000</td>\n",
       "    </tr>\n",
       "  </tbody>\n",
       "</table>\n",
       "</div>"
      ],
      "text/plain": [
       "               Age  Years of Experience       Salary       Female  \\\n",
       "count  2010.000000          2010.000000  2010.000000  2010.000000   \n",
       "mean      0.311831             0.241272     0.460821     0.437313   \n",
       "std       0.189010             0.181586     0.212399     0.496178   \n",
       "min       0.000000             0.000000    -0.000802     0.000000   \n",
       "25%       0.170732             0.088235     0.278413     0.000000   \n",
       "50%       0.268293             0.205882     0.475743     0.000000   \n",
       "75%       0.414634             0.352941     0.639206     1.000000   \n",
       "max       1.000000             1.000000     1.000000     1.000000   \n",
       "\n",
       "              Male        Other   Bachelor's  High School     Master's  \\\n",
       "count  2010.000000  2010.000000  2010.000000  2010.000000  2010.000000   \n",
       "mean      0.560199     0.002488     0.437313     0.069652     0.282587   \n",
       "std       0.496486     0.049826     0.496178     0.254623     0.450369   \n",
       "min       0.000000     0.000000     0.000000     0.000000     0.000000   \n",
       "25%       0.000000     0.000000     0.000000     0.000000     0.000000   \n",
       "50%       1.000000     0.000000     0.000000     0.000000     0.000000   \n",
       "75%       1.000000     0.000000     1.000000     0.000000     1.000000   \n",
       "max       1.000000     1.000000     1.000000     1.000000     1.000000   \n",
       "\n",
       "               PhD  \n",
       "count  2010.000000  \n",
       "mean      0.210448  \n",
       "std       0.407728  \n",
       "min       0.000000  \n",
       "25%       0.000000  \n",
       "50%       0.000000  \n",
       "75%       0.000000  \n",
       "max       1.000000  "
      ]
     },
     "execution_count": 378,
     "metadata": {},
     "output_type": "execute_result"
    }
   ],
   "source": [
    "df_test.describe()"
   ]
  },
  {
   "cell_type": "markdown",
   "id": "a0ecbe70-03f6-46d9-aa19-763acb7049aa",
   "metadata": {},
   "source": [
    "#### Dividing into X_test and y_test"
   ]
  },
  {
   "cell_type": "code",
   "execution_count": 379,
   "id": "fb05f6cd-0098-47b8-b6e1-233506274b73",
   "metadata": {},
   "outputs": [],
   "source": [
    "y_test = df_test.pop('Salary')\n",
    "X_test = df_test"
   ]
  },
  {
   "cell_type": "code",
   "execution_count": 380,
   "id": "65848644-ea6d-4255-909c-d25bb365ee27",
   "metadata": {},
   "outputs": [
    {
     "data": {
      "text/html": [
       "<div>\n",
       "<style scoped>\n",
       "    .dataframe tbody tr th:only-of-type {\n",
       "        vertical-align: middle;\n",
       "    }\n",
       "\n",
       "    .dataframe tbody tr th {\n",
       "        vertical-align: top;\n",
       "    }\n",
       "\n",
       "    .dataframe thead th {\n",
       "        text-align: right;\n",
       "    }\n",
       "</style>\n",
       "<table border=\"1\" class=\"dataframe\">\n",
       "  <thead>\n",
       "    <tr style=\"text-align: right;\">\n",
       "      <th></th>\n",
       "      <th>Age</th>\n",
       "      <th>Years of Experience</th>\n",
       "      <th>Female</th>\n",
       "      <th>Male</th>\n",
       "      <th>Other</th>\n",
       "      <th>Bachelor's</th>\n",
       "      <th>High School</th>\n",
       "      <th>Master's</th>\n",
       "      <th>PhD</th>\n",
       "    </tr>\n",
       "  </thead>\n",
       "  <tbody>\n",
       "    <tr>\n",
       "      <th>4508</th>\n",
       "      <td>0.146341</td>\n",
       "      <td>0.088235</td>\n",
       "      <td>1</td>\n",
       "      <td>0</td>\n",
       "      <td>0</td>\n",
       "      <td>1</td>\n",
       "      <td>0</td>\n",
       "      <td>0</td>\n",
       "      <td>0</td>\n",
       "    </tr>\n",
       "    <tr>\n",
       "      <th>716</th>\n",
       "      <td>0.073171</td>\n",
       "      <td>0.029412</td>\n",
       "      <td>0</td>\n",
       "      <td>1</td>\n",
       "      <td>0</td>\n",
       "      <td>1</td>\n",
       "      <td>0</td>\n",
       "      <td>0</td>\n",
       "      <td>0</td>\n",
       "    </tr>\n",
       "    <tr>\n",
       "      <th>4601</th>\n",
       "      <td>0.121951</td>\n",
       "      <td>0.058824</td>\n",
       "      <td>1</td>\n",
       "      <td>0</td>\n",
       "      <td>0</td>\n",
       "      <td>0</td>\n",
       "      <td>0</td>\n",
       "      <td>1</td>\n",
       "      <td>0</td>\n",
       "    </tr>\n",
       "    <tr>\n",
       "      <th>4382</th>\n",
       "      <td>0.170732</td>\n",
       "      <td>0.058824</td>\n",
       "      <td>1</td>\n",
       "      <td>0</td>\n",
       "      <td>0</td>\n",
       "      <td>1</td>\n",
       "      <td>0</td>\n",
       "      <td>0</td>\n",
       "      <td>0</td>\n",
       "    </tr>\n",
       "    <tr>\n",
       "      <th>3817</th>\n",
       "      <td>0.487805</td>\n",
       "      <td>0.382353</td>\n",
       "      <td>0</td>\n",
       "      <td>1</td>\n",
       "      <td>0</td>\n",
       "      <td>0</td>\n",
       "      <td>0</td>\n",
       "      <td>0</td>\n",
       "      <td>1</td>\n",
       "    </tr>\n",
       "  </tbody>\n",
       "</table>\n",
       "</div>"
      ],
      "text/plain": [
       "           Age  Years of Experience  Female  Male  Other  Bachelor's  \\\n",
       "4508  0.146341             0.088235       1     0      0           1   \n",
       "716   0.073171             0.029412       0     1      0           1   \n",
       "4601  0.121951             0.058824       1     0      0           0   \n",
       "4382  0.170732             0.058824       1     0      0           1   \n",
       "3817  0.487805             0.382353       0     1      0           0   \n",
       "\n",
       "      High School  Master's  PhD  \n",
       "4508            0         0    0  \n",
       "716             0         0    0  \n",
       "4601            0         1    0  \n",
       "4382            0         0    0  \n",
       "3817            0         0    1  "
      ]
     },
     "execution_count": 380,
     "metadata": {},
     "output_type": "execute_result"
    }
   ],
   "source": [
    "X_test.head()"
   ]
  },
  {
   "cell_type": "code",
   "execution_count": 381,
   "id": "f32ed065-3ceb-464f-9539-96ebe105f9d2",
   "metadata": {},
   "outputs": [
    {
     "data": {
      "text/plain": [
       "4508    0.242333\n",
       "716     0.358589\n",
       "4601    0.218280\n",
       "4382    0.142113\n",
       "3817    0.559030\n",
       "Name: Salary, dtype: float64"
      ]
     },
     "execution_count": 381,
     "metadata": {},
     "output_type": "execute_result"
    }
   ],
   "source": [
    "y_test.head()"
   ]
  },
  {
   "cell_type": "code",
   "execution_count": 382,
   "id": "a4298afa-5996-4fbd-8a9d-595e7fa3f377",
   "metadata": {},
   "outputs": [],
   "source": [
    "# Add a constant\n",
    "X_test_lm = sm.add_constant(X_test[['Age','Years of Experience']])"
   ]
  },
  {
   "cell_type": "code",
   "execution_count": 383,
   "id": "a28da4c7-5994-4dcc-88bc-6add7b45aac6",
   "metadata": {},
   "outputs": [],
   "source": [
    "y_test_pred = lr1.predict(X_test_lm)"
   ]
  },
  {
   "cell_type": "markdown",
   "id": "055eaf62-db69-4d6f-88b2-e6ae1197d8f1",
   "metadata": {},
   "source": [
    "### Checking predicted values by storing them in Dataframe"
   ]
  },
  {
   "cell_type": "code",
   "execution_count": 385,
   "id": "d63fb09c-0ba0-49cf-b87f-153e95c2b382",
   "metadata": {},
   "outputs": [],
   "source": [
    "df_prediction = pd.DataFrame()"
   ]
  },
  {
   "cell_type": "code",
   "execution_count": 387,
   "id": "268215fc-df75-4ac7-bf79-8e7cdc7a9a4f",
   "metadata": {},
   "outputs": [],
   "source": [
    "df_prediction=X_test_lm\n",
    "df_prediction['Salary']=y_test\n",
    "df_prediction['Predicted Salary']=y_test_pred"
   ]
  },
  {
   "cell_type": "code",
   "execution_count": 388,
   "id": "92c985d8-ae67-4262-bd87-b022badb1bbc",
   "metadata": {},
   "outputs": [
    {
     "data": {
      "text/html": [
       "<div>\n",
       "<style scoped>\n",
       "    .dataframe tbody tr th:only-of-type {\n",
       "        vertical-align: middle;\n",
       "    }\n",
       "\n",
       "    .dataframe tbody tr th {\n",
       "        vertical-align: top;\n",
       "    }\n",
       "\n",
       "    .dataframe thead th {\n",
       "        text-align: right;\n",
       "    }\n",
       "</style>\n",
       "<table border=\"1\" class=\"dataframe\">\n",
       "  <thead>\n",
       "    <tr style=\"text-align: right;\">\n",
       "      <th></th>\n",
       "      <th>const</th>\n",
       "      <th>Age</th>\n",
       "      <th>Years of Experience</th>\n",
       "      <th>Salary</th>\n",
       "      <th>Predicted Salary</th>\n",
       "    </tr>\n",
       "  </thead>\n",
       "  <tbody>\n",
       "    <tr>\n",
       "      <th>4508</th>\n",
       "      <td>1.0</td>\n",
       "      <td>0.146341</td>\n",
       "      <td>0.088235</td>\n",
       "      <td>0.242333</td>\n",
       "      <td>0.321392</td>\n",
       "    </tr>\n",
       "    <tr>\n",
       "      <th>716</th>\n",
       "      <td>1.0</td>\n",
       "      <td>0.073171</td>\n",
       "      <td>0.029412</td>\n",
       "      <td>0.358589</td>\n",
       "      <td>0.269818</td>\n",
       "    </tr>\n",
       "    <tr>\n",
       "      <th>4601</th>\n",
       "      <td>1.0</td>\n",
       "      <td>0.121951</td>\n",
       "      <td>0.058824</td>\n",
       "      <td>0.218280</td>\n",
       "      <td>0.291568</td>\n",
       "    </tr>\n",
       "    <tr>\n",
       "      <th>4382</th>\n",
       "      <td>1.0</td>\n",
       "      <td>0.170732</td>\n",
       "      <td>0.058824</td>\n",
       "      <td>0.142113</td>\n",
       "      <td>0.275422</td>\n",
       "    </tr>\n",
       "    <tr>\n",
       "      <th>3817</th>\n",
       "      <td>1.0</td>\n",
       "      <td>0.487805</td>\n",
       "      <td>0.382353</td>\n",
       "      <td>0.559030</td>\n",
       "      <td>0.587331</td>\n",
       "    </tr>\n",
       "  </tbody>\n",
       "</table>\n",
       "</div>"
      ],
      "text/plain": [
       "      const       Age  Years of Experience    Salary  Predicted Salary\n",
       "4508    1.0  0.146341             0.088235  0.242333          0.321392\n",
       "716     1.0  0.073171             0.029412  0.358589          0.269818\n",
       "4601    1.0  0.121951             0.058824  0.218280          0.291568\n",
       "4382    1.0  0.170732             0.058824  0.142113          0.275422\n",
       "3817    1.0  0.487805             0.382353  0.559030          0.587331"
      ]
     },
     "execution_count": 388,
     "metadata": {},
     "output_type": "execute_result"
    }
   ],
   "source": [
    "df_prediction.head()"
   ]
  },
  {
   "cell_type": "markdown",
   "id": "7dd368d2-25bf-4450-852e-cb927649f7cd",
   "metadata": {},
   "source": [
    "## Step 8: Model Evaluation\n",
    "\n",
    "Let's now plot the graph for actual versus predicted values."
   ]
  },
  {
   "cell_type": "code",
   "execution_count": 389,
   "id": "216a0d03-8af2-4847-83c1-6d6e4177ec7f",
   "metadata": {},
   "outputs": [
    {
     "data": {
      "text/plain": [
       "Text(0, 0.5, 'y_pred')"
      ]
     },
     "execution_count": 389,
     "metadata": {},
     "output_type": "execute_result"
    },
    {
     "data": {
      "image/png": "[encoded data removed]",
      "text/plain": [
       "<Figure size 640x480 with 1 Axes>"
      ]
     },
     "metadata": {},
     "output_type": "display_data"
    }
   ],
   "source": [
    "# Plotting y_test and y__test_pred to understand the spread\n",
    "\n",
    "fig = plt.figure()\n",
    "plt.scatter(y_test, y_test_pred)\n",
    "fig.suptitle('y_test vs y_pred', fontsize = 20)              # Plot heading \n",
    "plt.xlabel('y_test', fontsize = 18)                          # X-label\n",
    "plt.ylabel('y_pred', fontsize = 16)  "
   ]
  },
  {
   "cell_type": "markdown",
   "id": "8a596fce-56a4-4355-92af-451da1de0ea6",
   "metadata": {},
   "source": [
    "\n",
    "We can see that the equation of our best fitted line is:\n",
    "\n",
    "$ Salary = 1.2885  \\times  Years of Experience - 0.3310  \\times  Age + 0.2561 $\n"
   ]
  }
 ],
 "metadata": {
  "kernelspec": {
   "display_name": "Python 3 (ipykernel)",
   "language": "python",
   "name": "python3"
  },
  "language_info": {
   "codemirror_mode": {
    "name": "ipython",
    "version": 3
   },
   "file_extension": ".py",
   "mimetype": "text/x-python",
   "name": "python",
   "nbconvert_exporter": "python",
   "pygments_lexer": "ipython3",
   "version": "3.12.7"
  }
 },
 "nbformat": 4,
 "nbformat_minor": 5
}
